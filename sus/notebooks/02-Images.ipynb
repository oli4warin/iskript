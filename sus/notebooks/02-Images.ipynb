{
 "cells": [
  {
   "cell_type": "markdown",
   "id": "0f24aa07",
   "metadata": {},
   "source": [
    "# Images\n",
    "\n",
    "When working with computers, we often work with images. In this part we learn\n",
    "how the computer works with images and how we can manipulate images in their\n",
    "raw form as data.\n",
    "\n",
    "A very simple example of an image is the following:\n",
    "\n",
    "![simple_image](res/simple_image_large.png)\n",
    "\n",
    "We as humans just see some black blocks on the screen. But from the perspective\n",
    "of the computer, these black blocks are just a list with some numbers. With a\n",
    "bit of code, we can look at the data that the computer sees. Just execute the\n",
    "next cell, and look at the output."
   ]
  },
  {
   "cell_type": "code",
   "execution_count": 1,
   "id": "5b31195a",
   "metadata": {},
   "outputs": [
    {
     "name": "stdout",
     "output_type": "stream",
     "text": [
      "[0. 1. 0. 1. 0. 1. 0. 1. 0.]\n"
     ]
    }
   ],
   "source": [
    "from gymmu.images import *\n",
    "\n",
    "import numpy as np\n",
    "\n",
    "data = get_example_data()\n",
    "print(data)"
   ]
  },
  {
   "cell_type": "markdown",
   "id": "f8ed6479",
   "metadata": {},
   "source": [
    "Let's investigate the output a bit closer. As we can see, there are 9 entries\n",
    "in this **list**. The entries are either 0 or 1. We know that this data belongs\n",
    "to the image above and we can see that the first entry is 0. When we look at\n",
    "the image, we can see that the block in the top left corner is black. When we\n",
    "investigate further we can see that the second entry is 1 and the second\n",
    "block is white and so on.\n",
    "\n",
    "This is exactly how a computer reads the data for an image. The data is a\n",
    "simple list and the computer assigns each entry in the list a position in the\n",
    "image, starting in the top left and going to the right from there on. When the\n",
    "edge of the image is reached, the data just continues and the computer jumps to\n",
    "the next line.\n",
    "\n",
    "We can test this easily ourself. The next code block holds some example code\n",
    "that draws the data from above. Execute this block and verify that the result\n",
    "is the expected image."
   ]
  },
  {
   "cell_type": "code",
   "execution_count": 2,
   "id": "2b581417",
   "metadata": {},
   "outputs": [
    {
     "data": {
      "application/vnd.jupyter.widget-view+json": {
       "model_id": "0b80be21617844dbafa50149d71181b7",
       "version_major": 2,
       "version_minor": 0
      },
      "text/plain": [
       "Canvas(height=150, sync_image_data=True, width=150)"
      ]
     },
     "metadata": {},
     "output_type": "display_data"
    }
   ],
   "source": [
    "data = [1, 1, 1, 0]\n",
    "write_image_from_data(data)"
   ]
  },
  {
   "cell_type": "markdown",
   "id": "40c4583e",
   "metadata": {},
   "source": [
    "Now that we have a way of displaying our data, we can also manipulate the data.\n",
    "Let's flip some bits and observe the output."
   ]
  },
  {
   "cell_type": "markdown",
   "id": "27f8d785",
   "metadata": {},
   "source": [
    "Can you generate the following image?\n",
    "\n",
    "![black and white stripes](res/black_and_white_stripes.png)"
   ]
  },
  {
   "cell_type": "markdown",
   "id": "8e0e8f16",
   "metadata": {},
   "source": [
    "## There is more than just black and white\n",
    "\n",
    "The computer can display many more colors that just black and white. I.e. there\n",
    "are many levels of gray that can be displayed. If you want a pixel to be gray,\n",
    "just pick a number between 0 and 1 for your data.\n",
    "\n",
    "Try to generate the following picture as closely as possible.\n",
    "\n",
    "![levels of grey](res/levels_of_grey.png)"
   ]
  },
  {
   "cell_type": "markdown",
   "id": "ffc09a66",
   "metadata": {},
   "source": [
    "## The Bigger Picture\n",
    "\n",
    "As we are not limited to black and white, we are also not limited in the size\n",
    "of the images. To keeps things as simple as possible we limit ourself to\n",
    "square images for the moment, but we could easily extend this later. But since\n",
    "we limit ourself to square images we have some restrictions on the data, we\n",
    "always need a square number of entries in our data.\n",
    "\n",
    "In the next code cell you can find some example code with more data. You can\n",
    "play around with the data as before, you can also extend the data to 25 or even\n",
    "more entries."
   ]
  },
  {
   "cell_type": "code",
   "execution_count": 3,
   "id": "c798c711",
   "metadata": {},
   "outputs": [
    {
     "data": {
      "application/vnd.jupyter.widget-view+json": {
       "model_id": "c4074b6e1fe943f78500607c1e061b24",
       "version_major": 2,
       "version_minor": 0
      },
      "text/plain": [
       "Canvas(height=150, sync_image_data=True, width=150)"
      ]
     },
     "metadata": {},
     "output_type": "display_data"
    }
   ],
   "source": [
    "data = [1, 0, 1, 0, 0, 1, 0, 1, 1, 0, 1, 0, 0, 1, 0, 1]\n",
    "write_image_from_data(data)"
   ]
  },
  {
   "cell_type": "markdown",
   "id": "f01a69d9",
   "metadata": {},
   "source": [
    "## Manipulating Image Data\n",
    "\n",
    "Until now we have always just manually generated the data for a new image. But what if we want to\n",
    "change only a few entries in an existing image? In this case we can just access the\n",
    "data directly and change the entry we want. We can do this in the\n",
    "following way:\n",
    "\n",
    "\n",
    "```python\n",
    "data = [0, 1, 0, 1]\n",
    "data[0] = 1\n",
    "```\n",
    "\n",
    "In the first row here, we create a new array with the entries `0, 1, 0, 1`. So\n",
    "after the creation, the first entry in the array has the value `0`. Now with\n",
    "the second line we change this first entry to `1`.\n",
    "\n",
    "Let's look at this in a more practical example. Note that the next example\n",
    "needs 2 code cells, since we want to display the data after each change."
   ]
  },
  {
   "cell_type": "code",
   "execution_count": 4,
   "id": "ed28a45f",
   "metadata": {},
   "outputs": [
    {
     "data": {
      "application/vnd.jupyter.widget-view+json": {
       "model_id": "8fed5fb969ad43b6b8ede85494acace9",
       "version_major": 2,
       "version_minor": 0
      },
      "text/plain": [
       "Canvas(height=150, sync_image_data=True, width=150)"
      ]
     },
     "metadata": {},
     "output_type": "display_data"
    }
   ],
   "source": [
    "data = [1, 0, 1, 0, 0, 1, 0, 1, 1, 0, 1, 0, 0, 1, 0, 1]\n",
    "write_image_from_data(data)"
   ]
  },
  {
   "cell_type": "code",
   "execution_count": 5,
   "id": "49d9305a",
   "metadata": {},
   "outputs": [
    {
     "data": {
      "application/vnd.jupyter.widget-view+json": {
       "model_id": "fae0a5b00b804361807b154c3d66110e",
       "version_major": 2,
       "version_minor": 0
      },
      "text/plain": [
       "Canvas(height=150, sync_image_data=True, width=150)"
      ]
     },
     "metadata": {},
     "output_type": "display_data"
    }
   ],
   "source": [
    "data[0] = 0.5\n",
    "write_image_from_data(data)"
   ]
  },
  {
   "cell_type": "markdown",
   "id": "f95f916f",
   "metadata": {},
   "source": [
    "## Lists\n",
    "\n",
    "The python data for images is structured in a **list**. A list is a very useful tool in computer programming. As the name suggests it organizes the data one entry after the other in - well - a list. There are many tools in python for manipulating and changing lists. The first and most important one is the idea of a direct access:\n",
    "\n",
    "Given a list\n",
    "```python\n",
    "    data = ['a','b','c','d']\n",
    "```\n",
    "we can access each entry directly using the square brackets. However, just to make things a little more confusing for you (I swear it's a conspiracy from computer scientists to make their job seem harder than it actually is), the list numbering starts at '0'. So, if you type `data[1]` the result will be `'b'`. To access the first entry you have to type `data[0]`. \n",
    "\n",
    "Errors in accessing values of a list are some of the most common types of errors in programming They are called **index errors**, because the number representing the position is also called an **index**."
   ]
  },
  {
   "cell_type": "code",
   "execution_count": 6,
   "id": "2d0c0234",
   "metadata": {},
   "outputs": [],
   "source": [
    "data = ['a','b','c','d']"
   ]
  },
  {
   "cell_type": "code",
   "execution_count": 7,
   "id": "6337b228",
   "metadata": {},
   "outputs": [
    {
     "data": {
      "text/plain": [
       "'b'"
      ]
     },
     "execution_count": 7,
     "metadata": {},
     "output_type": "execute_result"
    }
   ],
   "source": [
    "data[1]"
   ]
  },
  {
   "cell_type": "markdown",
   "id": "55c394ac",
   "metadata": {},
   "source": [
    "## Colors\n",
    "\n",
    "As we all know it is possible to display colored images on the computer. To\n",
    "achieve this, we introduce so called color channels. Basically this is a fancy\n",
    "term for saying that we interpret the data a bit different than before. A very\n",
    "common color model is the so called **RGB** color model. (**RGB** stands for\n",
    "**R**ed, **G**reen, **B**lue). This means we need 3 values to represent a\n",
    "pixel.\n",
    "\n",
    "Let's look at a practical example! Note that we structured the code a bit\n",
    "different this time. Python allows this for better readability. This has no\n",
    "effect on the execution of the code. The data is now structured in a way that\n",
    "each pixel has its 3 values on one line, and each line is a pixel."
   ]
  },
  {
   "cell_type": "code",
   "execution_count": 6,
   "id": "6f8a1992",
   "metadata": {},
   "outputs": [
    {
     "data": {
      "application/vnd.jupyter.widget-view+json": {
       "model_id": "ce3cf9e87e564de0b0849cce18ccefcf",
       "version_major": 2,
       "version_minor": 0
      },
      "text/plain": [
       "Canvas(height=150, sync_image_data=True, width=150)"
      ]
     },
     "metadata": {},
     "output_type": "display_data"
    }
   ],
   "source": [
    "from gymmu.images import *\n",
    "\n",
    "data = [\n",
    "    1, 0, 0, \n",
    "    0, 1, 0, \n",
    "    0, 0, 1,\n",
    "    0, 0, 0,\n",
    "]\n",
    "write_image_from_data_colored(data)"
   ]
  },
  {
   "cell_type": "markdown",
   "id": "83aadb63",
   "metadata": {},
   "source": [
    "You can play around with the data and try to create different colors. Find a\n",
    "hypothesis for what you have to change to get a desired color and then test\n",
    "your hypothesis with the code."
   ]
  },
  {
   "cell_type": "markdown",
   "id": "d58a5a8b",
   "metadata": {},
   "source": [
    "### Exercise\n",
    "\n",
    "> Generate the following image with the code cell below.\n",
    "> ![all base colors](res/all_base_colors.png)\n",
    "> **Hint:** Keep your data structured for readability. For more pixels, just\n",
    "> add more rows, but keep in mind that the number of rows has to be a square\n",
    "> number."
   ]
  },
  {
   "cell_type": "code",
   "execution_count": 7,
   "id": "c8df6d05",
   "metadata": {},
   "outputs": [
    {
     "data": {
      "application/vnd.jupyter.widget-view+json": {
       "model_id": "4e758a469cfc4f238763008d7e9cc014",
       "version_major": 2,
       "version_minor": 0
      },
      "text/plain": [
       "Canvas(height=150, sync_image_data=True, width=150)"
      ]
     },
     "metadata": {},
     "output_type": "display_data"
    }
   ],
   "source": [
    "from gymmu.images import *\n",
    "\n",
    "data = [\n",
    "    1, 0, 0, \n",
    "    0, 1, 0, \n",
    "    0, 0, 1,\n",
    "    0, 0, 0,\n",
    "    # Add more data here...\n",
    "]\n",
    "write_image_from_data_colored(data)"
   ]
  },
  {
   "cell_type": "markdown",
   "id": "d4113894",
   "metadata": {},
   "source": [
    "## RGB Color Values\n",
    "\n",
    "Usually color values for a single pixel are given like this `#FF0000`. It is\n",
    "quite plausible that you already saw a string like this. You can check out many\n",
    "more on this [website](https://www.rapidtables.com/web/color/RGB_Color.html#color-table).\n",
    "\n",
    "To understand this sequence of characters, we have to take them apart. \n",
    "\n",
    "First of all, the `#` character is just there to tell the reader that the\n",
    "following character should be interpreted as **hex** values. **Hex** values\n",
    "are values in the [hexadecimal system](https://en.wikipedia.org/wiki/Hexadecimal).\n",
    "For now it is enough to know that the values go from `0` to `F` where `F`\n",
    "stands for the number 16. `FF` stands for the number `255` \n",
    "($15 \\cdot 16^1 + 15 \\cdot 16^0$).\n",
    "\n",
    "We then read the next 6 characters in pairs of 2 characters each. So we get the\n",
    "following 3 pairs `FF`, `00` and `00`. We can quickly calculate the decimal\n",
    "value for these 3 pairs, and we get the values `255`, `0` and `0`.\n",
    "\n",
    "Since we deal with colors and you already know that there are color channels,\n",
    "we can infer that this tuple makes up the following color: `(red=255, green=0, blue=0)`. This is just the color red, since the other 2 channels are 0.\n",
    "\n",
    "Let's put this knowledge into use! In the next code cell you find again some\n",
    "code to generate a colored imaged. Note that we now use values between 0 and\n",
    "255!"
   ]
  },
  {
   "cell_type": "code",
   "execution_count": 8,
   "id": "3de17d64",
   "metadata": {},
   "outputs": [
    {
     "data": {
      "application/vnd.jupyter.widget-view+json": {
       "model_id": "b839e44023104305be0ee7cbe871d52d",
       "version_major": 2,
       "version_minor": 0
      },
      "text/plain": [
       "Canvas(height=150, sync_image_data=True, width=150)"
      ]
     },
     "metadata": {},
     "output_type": "display_data"
    }
   ],
   "source": [
    "from gymmu.images import *\n",
    "\n",
    "data = [\n",
    "    255, 0, 0, \n",
    "    0, 255, 0, \n",
    "    0, 0, 255,\n",
    "    0, 0, 0,\n",
    "]\n",
    "write_image_from_data_rgb(data)"
   ]
  },
  {
   "cell_type": "markdown",
   "id": "6a253019",
   "metadata": {},
   "source": [
    "### Exercise\n",
    "\n",
    "> Replicate the following image as best as possible.\n",
    "> ![rgb examples](res/rgb_colors_example.png)\n",
    "\n",
    "## Random Colors\n",
    "\n",
    "We can also generate some random images."
   ]
  },
  {
   "cell_type": "code",
   "execution_count": 9,
   "id": "4f4f571d",
   "metadata": {},
   "outputs": [
    {
     "data": {
      "application/vnd.jupyter.widget-view+json": {
       "model_id": "15d8382bf2e14a029126f7e5a8e90e13",
       "version_major": 2,
       "version_minor": 0
      },
      "text/plain": [
       "Canvas(height=150, sync_image_data=True, width=150)"
      ]
     },
     "metadata": {},
     "output_type": "display_data"
    }
   ],
   "source": [
    "from gymmu.images import *\n",
    "from random import randint\n",
    "\n",
    "data = []\n",
    "for r in range(10**2 * 3):\n",
    "    data.append(randint(0, 255))\n",
    "    \n",
    "write_image_from_data_rgb(data)"
   ]
  },
  {
   "cell_type": "markdown",
   "id": "8c4211e1",
   "metadata": {},
   "source": [
    "Now let's say that you need a random picture, but there is way to much red in it. The code in the next cell sets the red color channel to `0` for every pixel. Note that this cell has much less code in it than the others. This is because we want to use these cells together. Once a cell is executed, the notebook remembers everything that was executed until the notbooks gets restarted. This is very usefull for us, since we can use data across different cells. In this case, it is usefull because we want to compare the images."
   ]
  },
  {
   "cell_type": "code",
   "execution_count": 10,
   "id": "674f0985",
   "metadata": {},
   "outputs": [
    {
     "data": {
      "application/vnd.jupyter.widget-view+json": {
       "model_id": "af2501464c084b32ba698e6a8d026efa",
       "version_major": 2,
       "version_minor": 0
      },
      "text/plain": [
       "Canvas(height=150, sync_image_data=True, width=150)"
      ]
     },
     "metadata": {},
     "output_type": "display_data"
    }
   ],
   "source": [
    "for i in range(0, len(data), 3):\n",
    "    data[i] = 0\n",
    "\n",
    "write_image_from_data_rgb(data)"
   ]
  },
  {
   "cell_type": "markdown",
   "id": "bb4d1e7f",
   "metadata": {},
   "source": [
    "Now we want to know how the image looks like when we set the red channel to\n",
    "maximum for all pixels. This is still the same image, just with a different red\n",
    "channel."
   ]
  },
  {
   "cell_type": "code",
   "execution_count": 11,
   "id": "909391c5",
   "metadata": {},
   "outputs": [
    {
     "data": {
      "application/vnd.jupyter.widget-view+json": {
       "model_id": "db7e920e2c4046988a1200fa145ac909",
       "version_major": 2,
       "version_minor": 0
      },
      "text/plain": [
       "Canvas(height=150, sync_image_data=True, width=150)"
      ]
     },
     "metadata": {},
     "output_type": "display_data"
    }
   ],
   "source": [
    "for i in range(0, len(data), 3):\n",
    "    data[i] = 255\n",
    "\n",
    "write_image_from_data_rgb(data)"
   ]
  },
  {
   "cell_type": "markdown",
   "id": "756a8528",
   "metadata": {},
   "source": [
    "## The `range` Function\n",
    "\n",
    "The code looks still quite simple, but the `range` function got a bit more\n",
    "complicated with some more parameters. Let's look at this function in detail.\n",
    "\n",
    "- `range(n)`:\n",
    "  You already know this from the turtles. In this case the `range` function\n",
    "  starts with `0` and counts until `n`. This is the basic usage and is very\n",
    "  common in all python programs.\n",
    "\n",
    "- `range(start, stop)`:\n",
    "  We don't use this form with 2 parameters here, but it is also very useful. As\n",
    "  the name of the parameters already suggest, the `range` function starts\n",
    "  counting from `start` and counts until `stop`, where `stop` is excluded. This\n",
    "  could be useful if you don't want to start from `0`.\n",
    "\n",
    "- `range(start, stop, step)`:\n",
    "  This is very similar to the form with 2 parameters. The `range` function\n",
    "  starts counting from `start` and counts until `stop` (exclusively). In each\n",
    "  step the count gets increased by `step`. This form of the `range` function is\n",
    "  obviously very useful when you want to count in steps of 3.\n",
    "\n",
    "We use the step from of the `range` function here, because we want to access\n",
    "the red channel for every pixel. This means that we have to add skip the green\n",
    "and the blue channel, therefore we count in steps of 3. If we want to do this\n",
    "for the green channel, we would just start from `1` instead of `0`.\n",
    "\n",
    "### Exercise\n",
    "\n",
    "> Extract the green channel from the image above.\n",
    ">\n",
    "> **Hint:** Extracting a channel just means setting the other channels to `0`."
   ]
  },
  {
   "cell_type": "code",
   "execution_count": 12,
   "id": "934cd676",
   "metadata": {
    "lines_to_next_cell": 2
   },
   "outputs": [
    {
     "data": {
      "application/vnd.jupyter.widget-view+json": {
       "model_id": "49daa7d38a7548509b4f796292fd5cf9",
       "version_major": 2,
       "version_minor": 0
      },
      "text/plain": [
       "Canvas(height=150, sync_image_data=True, width=150)"
      ]
     },
     "metadata": {},
     "output_type": "display_data"
    }
   ],
   "source": [
    "for i in range(0, len(data), 3):\n",
    "    data[i] = 255\n",
    "\n",
    "write_image_from_data_rgb(data)"
   ]
  },
  {
   "cell_type": "markdown",
   "id": "f37facbb",
   "metadata": {},
   "source": [
    "## Real images\n",
    "\n",
    "Everything we did on these small example images, also works on real images.\n",
    "Things can sometimes get a bit tricky here, since we don't always operate on\n",
    "squared images. But it is much more fun to play around with real images.\n",
    "\n",
    "With the next code cell, we can load an image from the internet. Just provide the URL to an image and you can load any image available on the internet and do some image manipulation.\n",
    "\n",
    "Note that in line 4, we have `data, width = load_image_data(url)`. This is because we need the `data` and the `width` of the image, since the image is not garanteed to be squared."
   ]
  },
  {
   "cell_type": "code",
   "execution_count": 13,
   "id": "2d18eaa7",
   "metadata": {},
   "outputs": [
    {
     "data": {
      "application/vnd.jupyter.widget-view+json": {
       "model_id": "797277e8f26740348acc873d57d8c2cb",
       "version_major": 2,
       "version_minor": 0
      },
      "text/plain": [
       "Canvas(height=171, sync_image_data=True, width=1024)"
      ]
     },
     "metadata": {},
     "output_type": "display_data"
    }
   ],
   "source": [
    "from gymmu.images import *\n",
    "\n",
    "url = 'https://www.gym-muttenz.ch/fileadmin/user_upload/_headerbilder/3.jpg'\n",
    "data, width = load_image_data(url)\n",
    "write_image_rgb(data, width)"
   ]
  },
  {
   "cell_type": "markdown",
   "id": "a400ac8b",
   "metadata": {},
   "source": [
    "This image looks like it has a lot of green in it. Let's remove the green channel, and see how the image looks afterwards."
   ]
  },
  {
   "cell_type": "code",
   "execution_count": 14,
   "id": "8b650cd1",
   "metadata": {},
   "outputs": [
    {
     "data": {
      "application/vnd.jupyter.widget-view+json": {
       "model_id": "b7b9ca3ef2994d5a9aa5770eb1fb4e21",
       "version_major": 2,
       "version_minor": 0
      },
      "text/plain": [
       "Canvas(height=171, sync_image_data=True, width=1024)"
      ]
     },
     "metadata": {},
     "output_type": "display_data"
    }
   ],
   "source": [
    "for i in range(1, len(data), 3):\n",
    "    data[i] = 0\n",
    "    \n",
    "write_image_rgb(data, width)"
   ]
  },
  {
   "cell_type": "markdown",
   "id": "dabc585b",
   "metadata": {},
   "source": [
    "This image looks a bit strange. In the original it looked like there was a lot of green in it, so we would expect that there are some dark spots in the image. It got a bit darker, but it is hard to tell since some color information are missing for us. Maybe we can do better by looking at what we removed.\n",
    "\n",
    "### Exercise\n",
    "\n",
    "> Print only the green channel for this image.\n",
    ">\n",
    "> **Note:** Printing a single channel is the same as setting the other 2 channels to `0`."
   ]
  },
  {
   "cell_type": "code",
   "execution_count": 15,
   "id": "8541c38c",
   "metadata": {},
   "outputs": [
    {
     "data": {
      "application/vnd.jupyter.widget-view+json": {
       "model_id": "ee0d3d4e4d204316bc7feb942bae6b1a",
       "version_major": 2,
       "version_minor": 0
      },
      "text/plain": [
       "Canvas(height=171, sync_image_data=True, width=1024)"
      ]
     },
     "metadata": {},
     "output_type": "display_data"
    }
   ],
   "source": [
    "from gymmu.images import *\n",
    "\n",
    "url = 'https://www.gym-muttenz.ch/fileadmin/user_upload/_headerbilder/3.jpg'\n",
    "data, width = load_image_data(url)\n",
    "write_image_rgb(data, width)\n",
    "\n",
    "#TODO: Implement your code here\n",
    "    \n",
    "write_image_rgb(data, width)"
   ]
  },
  {
   "cell_type": "markdown",
   "id": "b2a26ca7",
   "metadata": {},
   "source": [
    "Well that did not help much. It looks like the most green is in the sky and in the mountains. If we think about it, this makes somehow sense. These are the brightest pixels in the image. Since a pixel needs all color channels to have high values, it makes sense that the white-ish pixels also have a high value in the green channel.\n",
    "\n",
    "### Exercise\n",
    "\n",
    "> Create the red and the blue channel for this picture, and compare all the channels together."
   ]
  },
  {
   "cell_type": "code",
   "execution_count": 16,
   "id": "4373d0ae",
   "metadata": {},
   "outputs": [
    {
     "data": {
      "application/vnd.jupyter.widget-view+json": {
       "model_id": "3ce24c1b17e44deabde8ac94e62d7aa2",
       "version_major": 2,
       "version_minor": 0
      },
      "text/plain": [
       "Canvas(height=171, sync_image_data=True, width=1024)"
      ]
     },
     "metadata": {},
     "output_type": "display_data"
    }
   ],
   "source": [
    "from gymmu.images import *\n",
    "\n",
    "url = 'https://www.gym-muttenz.ch/fileadmin/user_upload/_headerbilder/3.jpg'\n",
    "data, width = load_image_data(url)\n",
    "write_image_rgb(data, width)\n",
    "\n",
    "#TODO: Implement your code here\n",
    "    \n",
    "write_image_rgb(data, width)"
   ]
  },
  {
   "cell_type": "markdown",
   "id": "53ceac4c",
   "metadata": {},
   "source": [
    "## Scaling down an Image\n",
    "\n",
    "To scale down an image, we can just throw away every second pixel. This is a\n",
    "loss of information, but usually this is not to bad, since the resolution of\n",
    "images is very high and the difference from 2 neighbouring is not that big.\n",
    "\n",
    "Let's look at an example."
   ]
  },
  {
   "cell_type": "code",
   "execution_count": 17,
   "id": "00892faf",
   "metadata": {},
   "outputs": [
    {
     "data": {
      "application/vnd.jupyter.widget-view+json": {
       "model_id": "2fb418e111594b3aaa7a01b14966f9bb",
       "version_major": 2,
       "version_minor": 0
      },
      "text/plain": [
       "Canvas(height=171, sync_image_data=True, width=512)"
      ]
     },
     "metadata": {},
     "output_type": "display_data"
    }
   ],
   "source": [
    "from gymmu.images import *\n",
    "\n",
    "url = 'https://www.gym-muttenz.ch/fileadmin/user_upload/_headerbilder/3.jpg'\n",
    "data, width = load_image_data(url)\n",
    "new_data = []\n",
    "for i in range(0, len(data), 6):\n",
    "    new_data.append(data[i])\n",
    "    new_data.append(data[i+1])\n",
    "    new_data.append(data[i+2])\n",
    "    \n",
    "write_image_rgb(new_data, int(width / 2))"
   ]
  },
  {
   "cell_type": "markdown",
   "id": "587814a1",
   "metadata": {},
   "source": [
    "In this example we can see that something did not go as expected. From a\n",
    "logical point of view, we did exactly what we were supposed to do, we ignored\n",
    "every second pixel. The problem here is that the data is in a linear shape, and\n",
    "the image is a 2 dimensional shape. So from the point of view of the image, we\n",
    "also have to ignore every second row in the data.\n",
    "\n",
    "The code cell below does this."
   ]
  },
  {
   "cell_type": "code",
   "execution_count": 18,
   "id": "f54bdce4",
   "metadata": {},
   "outputs": [
    {
     "data": {
      "application/vnd.jupyter.widget-view+json": {
       "model_id": "76fe4ff217d945bda22c2cbfc4997846",
       "version_major": 2,
       "version_minor": 0
      },
      "text/plain": [
       "Canvas(height=85, sync_image_data=True, width=512)"
      ]
     },
     "metadata": {},
     "output_type": "display_data"
    }
   ],
   "source": [
    "from gymmu.images import *\n",
    "\n",
    "url = 'https://www.gym-muttenz.ch/fileadmin/user_upload/_headerbilder/3.jpg'\n",
    "data, width = load_image_data(url)\n",
    "new_data = []\n",
    "for i in range(0, len(data), 6):\n",
    "    if (i // (width * 3)) % 2 == 1:  # Ignore every second row\n",
    "        new_data.append(data[i])\n",
    "        new_data.append(data[i+1])\n",
    "        new_data.append(data[i+2])\n",
    "    \n",
    "write_image_rgb(new_data, int(width / 2))"
   ]
  },
  {
   "cell_type": "markdown",
   "id": "5379eac2",
   "metadata": {},
   "source": [
    "The interesting part in this cell is line 6.\n",
    "\n",
    "```python\n",
    "if (i // (width * 3)) % 2 == 1:\n",
    "```\n",
    "\n",
    "This piece of code says that the code below is only executed if the statement\n",
    "is `True` otherwise the data is not copied to `new_data`. The statement itself\n",
    "checks if the counter variable `i` divided by `(width * 3)` and rounded down to\n",
    "the next integer is an odd number.\n",
    "\n",
    "### Exercise:\n",
    "\n",
    "> Why is it `width * 3` in the example above?"
   ]
  },
  {
   "cell_type": "markdown",
   "id": "379ac683",
   "metadata": {},
   "source": [
    "## Black and White\n",
    "\n",
    "Dealing with color channels can be very cumbersome. Therefore we want to\n",
    "convert your image into greyscale. There are different methods to convert a\n",
    "picture into greyscale, some of them are a bit better than others. The simplest\n",
    "way to convert an image to greyscale is to sum up the values for each color\n",
    "channel where each channel is weighted with $1/3$. Some more advanced methods\n",
    "apply different weights to the different channels.\n",
    "\n",
    "In the code cell below, you can find a simple method to convert an image to greyscale."
   ]
  },
  {
   "cell_type": "code",
   "execution_count": 28,
   "id": "3a07e5ca",
   "metadata": {},
   "outputs": [
    {
     "data": {
      "application/vnd.jupyter.widget-view+json": {
       "model_id": "3eb38a9de75445e9850222726212f4ef",
       "version_major": 2,
       "version_minor": 0
      },
      "text/plain": [
       "Canvas(height=798, sync_image_data=True, width=1200)"
      ]
     },
     "metadata": {},
     "output_type": "display_data"
    }
   ],
   "source": [
    "from gymmu.images import *\n",
    "\n",
    "url = 'https://www.gym-muttenz.ch/fileadmin/user_upload/_headerbilder/3.jpg'\n",
    "data, width = load_image_data(url)\n",
    "grey_data = []\n",
    "\n",
    "for i in range(0, len(data), 3):\n",
    "    grey_data.append(1/3 * data[i] + 1/3 * data[i+1] + 1/3 * data[i+2])\n",
    "    \n",
    "write_image_grey(grey_data, width)"
   ]
  },
  {
   "cell_type": "markdown",
   "id": "83127b83",
   "metadata": {},
   "source": [
    "### Exercise:\n",
    "\n",
    "> Search on the web for better methods to convert an image to greyscale and\n",
    "> implement that method.\n",
    ">\n",
    "> Compare the images. What can you see?"
   ]
  },
  {
   "cell_type": "code",
   "execution_count": 29,
   "id": "1c08f0f2",
   "metadata": {},
   "outputs": [
    {
     "data": {
      "application/vnd.jupyter.widget-view+json": {
       "model_id": "960f10c1b5a645f787388264046e73e2",
       "version_major": 2,
       "version_minor": 0
      },
      "text/plain": [
       "Canvas(height=798, sync_image_data=True, width=1200)"
      ]
     },
     "metadata": {},
     "output_type": "display_data"
    }
   ],
   "source": [
    "from gymmu.images import *\n",
    "\n",
    "url = 'https://www.gym-muttenz.ch/fileadmin/user_upload/_headerbilder/3.jpg'\n",
    "data, width = load_image_data(url)\n",
    "grey_data = []\n",
    "\n",
    "for i in range(0, len(data), 3):\n",
    "    # Implement a better method here\n",
    "    grey_data.append(1/3 * data[i] + 1/3 * data[i+1] + 1/3 * data[i+2])\n",
    "    \n",
    "write_image_grey(grey_data, width)"
   ]
  },
  {
   "cell_type": "markdown",
   "id": "3d6da227",
   "metadata": {},
   "source": [
    "## Easier to work with Greyscale\n",
    "\n",
    "One reason to work with greyscale images, is that it is simpler. We don't have\n",
    "to deal with 3 different color channels, there is only one color channel in a\n",
    "greyscale image. Oftentimes this is enough for what we need.\n",
    "\n",
    "## Edge Detection\n",
    "\n",
    "Edge detection is an important concept in *Computer Vision* and it is actually not that hard. Given an image in greyscale, we compute the value of every pixel as the abosulte difference of its two neighbouring pixels. So if there is a big change of the values, we can assume that there is an edge. Let's have a closer look at the code in the cell below."
   ]
  },
  {
   "cell_type": "code",
   "execution_count": 34,
   "id": "21ba22d5",
   "metadata": {},
   "outputs": [
    {
     "data": {
      "application/vnd.jupyter.widget-view+json": {
       "model_id": "17831f4ff60848b8848a3fec90dcd8b8",
       "version_major": 2,
       "version_minor": 0
      },
      "text/plain": [
       "Canvas(height=798, sync_image_data=True, width=1200)"
      ]
     },
     "metadata": {},
     "output_type": "display_data"
    }
   ],
   "source": [
    "from gymmu.images import *\n",
    "\n",
    "url = 'https://www.gym-muttenz.ch/fileadmin/user_upload/_headerbilder/3.jpg'\n",
    "data, width = load_image_data(url)\n",
    "grey_data = []\n",
    "\n",
    "# Converting the image to greyscale\n",
    "for i in range(0, len(data), 3):\n",
    "    grey_data.append(1/3 * data[i] + 1/3 * data[i+1] + 1/3 * data[i+2])\n",
    "    \n",
    "    \n",
    "# Make a copy of the greyscale image\n",
    "edge_data = grey_data.copy()\n",
    "\n",
    "# Compute the edges\n",
    "for i in range(1, len(grey_data) - 1):\n",
    "    # Compute the absolute difference of the neighbouring pixels\n",
    "    edge_data[i] = abs(grey_data[i-1] - grey_data[i+1])\n",
    "    \n",
    "\n",
    "# Applay a threshold to make edges more visible\n",
    "for i in range(0, len(edge_data)):\n",
    "    # Setting the threshold\n",
    "    threshold_value = 20\n",
    "    if edge_data[i] < threshold_value:\n",
    "        edge_data[i] = 0\n",
    "    \n",
    "write_image_grey(edge_data, width)"
   ]
  },
  {
   "cell_type": "markdown",
   "id": "79efbcea",
   "metadata": {},
   "source": [
    "## Edges in all directions\n",
    "\n",
    "In the code cell above, we just calculated the edges in the horizontal direction. To compute the edges in the vertical direction, look at the code in the next cell.\n",
    "\n",
    "Compare the output of each of these cells, to verify that the edges are detected in the given direction."
   ]
  },
  {
   "cell_type": "code",
   "execution_count": 35,
   "id": "b06a27c1",
   "metadata": {},
   "outputs": [
    {
     "data": {
      "application/vnd.jupyter.widget-view+json": {
       "model_id": "7e8d22d258de491cb8083a125cbbe098",
       "version_major": 2,
       "version_minor": 0
      },
      "text/plain": [
       "Canvas(height=798, sync_image_data=True, width=1200)"
      ]
     },
     "metadata": {},
     "output_type": "display_data"
    }
   ],
   "source": [
    "from gymmu.images import *\n",
    "\n",
    "url = 'https://www.gym-muttenz.ch/fileadmin/user_upload/_headerbilder/3.jpg'\n",
    "data, width = load_image_data(url)\n",
    "grey_data = []\n",
    "\n",
    "# Converting the image to greyscale\n",
    "for i in range(0, len(data), 3):\n",
    "    grey_data.append(1/3 * data[i] + 1/3 * data[i+1] + 1/3 * data[i+2])\n",
    "    \n",
    "    \n",
    "# Make a copy of the greyscale image\n",
    "edge_data_vert = grey_data.copy()\n",
    "for i in range(width, len(grey_data) - width):\n",
    "    edge_data_vert[i] = abs(grey_data[(i-width)] - grey_data[(i+width)])\n",
    "    \n",
    "\n",
    "# Applay a threshold to make edges more visible\n",
    "for i in range(0, len(edge_data)):\n",
    "    # Setting the threshold\n",
    "    threshold_value = 20\n",
    "    if edge_data_vert[i] < threshold_value:\n",
    "        edge_data_vert[i] = 0\n",
    "    \n",
    "write_image_grey(edge_data_vert, width)"
   ]
  },
  {
   "cell_type": "markdown",
   "id": "ff6e3adb",
   "metadata": {},
   "source": [
    "## Image Addition\n",
    "\n",
    "To get a better edge detection, we can just add both images together. You can find the code for this in the next cell."
   ]
  },
  {
   "cell_type": "code",
   "execution_count": 37,
   "id": "d228e8da",
   "metadata": {},
   "outputs": [
    {
     "data": {
      "application/vnd.jupyter.widget-view+json": {
       "model_id": "4142255b4b31482f87731e46e64b21c8",
       "version_major": 2,
       "version_minor": 0
      },
      "text/plain": [
       "Canvas(height=798, sync_image_data=True, width=1200)"
      ]
     },
     "metadata": {},
     "output_type": "display_data"
    }
   ],
   "source": [
    "diff_data = []\n",
    "for i in range(len(edge_data)):\n",
    "    diff_data.append(min(255, edge_data[i] + edge_data_vert[i]))\n",
    "    \n",
    "write_image_grey(diff_data, width)"
   ]
  },
  {
   "cell_type": "markdown",
   "id": "fe538eb9",
   "metadata": {},
   "source": [
    "## Make Edges Visible\n",
    "\n",
    "To make edges visible in an image, we can just add the edges onto the image."
   ]
  },
  {
   "cell_type": "code",
   "execution_count": 38,
   "id": "19088278",
   "metadata": {},
   "outputs": [
    {
     "data": {
      "application/vnd.jupyter.widget-view+json": {
       "model_id": "3f06cbc3730f48388ce75cda6364c92b",
       "version_major": 2,
       "version_minor": 0
      },
      "text/plain": [
       "Canvas(height=798, sync_image_data=True, width=1200)"
      ]
     },
     "metadata": {},
     "output_type": "display_data"
    }
   ],
   "source": [
    "new_data = diff_data.copy()\n",
    "for i in range(len(diff_data)):\n",
    "    new_data[i] = min(255, abs(grey_data[i] + diff_data[i]))\n",
    "    \n",
    "write_image_grey(new_data, width)"
   ]
  },
  {
   "cell_type": "markdown",
   "id": "98fa6d08",
   "metadata": {},
   "source": [
    "## Hidden Messages\n",
    "\n",
    "Images are very large, and some small changes in the pixels cannot be observed by the viewer. So it is very easy to hide some messages in an image.\n",
    "\n",
    "In the next code cell, we hide the message 'secret' in the first few pixels of the image."
   ]
  },
  {
   "cell_type": "code",
   "execution_count": 1,
   "id": "ea140b9c",
   "metadata": {},
   "outputs": [
    {
     "data": {
      "application/vnd.jupyter.widget-view+json": {
       "model_id": "e9dabfe5774b4f15a8dea92967252b10",
       "version_major": 2,
       "version_minor": 0
      },
      "text/plain": [
       "Canvas(height=171, sync_image_data=True, width=1024)"
      ]
     },
     "metadata": {},
     "output_type": "display_data"
    }
   ],
   "source": [
    "from gymmu.images import *\n",
    "\n",
    "url = 'https://www.gym-muttenz.ch/fileadmin/user_upload/_headerbilder/3.jpg'\n",
    "data, width = load_image_data(url)\n",
    "grey_data = []\n",
    "\n",
    "for i in range(0, len(data), 3):\n",
    "    grey_data.append(1/3 * data[i] + 1/3 * data[i+1] + 1/3 * data[i+2])\n",
    "    \n",
    "# Hide the message 'secret' in the first few pixels\n",
    "hidden_msg = [115, 101, 99, 114, 101, 116]\n",
    "for i in range(len(hidden_msg)):\n",
    "    grey_data[i] = hidden_msg[i]\n",
    "    \n",
    "write_image_grey(grey_data, width)"
   ]
  },
  {
   "cell_type": "markdown",
   "id": "a424ea12",
   "metadata": {},
   "source": [
    "## Not so hidden\n",
    "\n",
    "As you can see, there is a very small black bar in the top left of the image. This means that the message is not very well hidden. Maybe you can come up with a better method to hide messages in the image?"
   ]
  }
 ],
 "metadata": {
  "kernelspec": {
   "display_name": "Python 3 (ipykernel)",
   "language": "python",
   "name": "python3"
  },
  "language_info": {
   "codemirror_mode": {
    "name": "ipython",
    "version": 3
   },
   "file_extension": ".py",
   "mimetype": "text/x-python",
   "name": "python",
   "nbconvert_exporter": "python",
   "pygments_lexer": "ipython3",
   "version": "3.10.5"
  }
 },
 "nbformat": 4,
 "nbformat_minor": 5
}
