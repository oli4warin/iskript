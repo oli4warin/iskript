{
 "cells": [
  {
   "cell_type": "markdown",
   "metadata": {},
   "source": [
    "# Data\n",
    "\n",
    "In computer science one of the most important tasks is to encode and decode data for different jobs or processes. We have previously seen how individual bits can be used to digitally represent an image file. However, computers are used in many more applications: Word processing; calculations; viewing and editing of images, video or music; browsing the internet and so on. All of these proesses boil down to ones and zeros being written and interpreted somewhere inside your computer.\n",
    "\n",
    "Everything that can be input into a computer can be considered **data**. We will give a brief overview of the different ways in which a computer will translate that data into the ones and zeros it needs to operate. Be aware that this is only a brief introduction and we will not be going into great detail. The finer points of all of these representations will be dealt with later in the curriculum."
   ]
  },
  {
   "cell_type": "markdown",
   "metadata": {},
   "source": [
    "## Analog vs. Digital\n",
    "In the natural world most processes are continuous; i.e. every measured value can be determined (in theory) with infinite precision. Obviously, there are some real world limits to this precision, but they only matter in very specific cases and are not really relevant in our everyday life.  \n",
    "\n",
    "Computers on the other hand, by their basic nature, are finite machines: There are only so many bits at our disposal and we need to make them matter. #EveryBitMatters\n",
    "\n",
    "This means that all the information inputted and stored in computers has to be modified to fit the way computers *think*. For example: A mercury thermometer is an analog device in theory if we had a fine enough scale, we could measure the temperature with *infinte* precision (well down to the size of a mercury atom at least). However, if we look a thermometer, we may simply say that is shows $25^{\\circ}$. For everyday purposes this is sufficiently precise and this is the value we would input into a computer. This process of **discretization** is typical for way computers work - think of it as rounding up or down. In this case both $24.99876^{\\circ}$ and $25.32298^{\\circ}$ would both be coded as $25^{\\circ}$."
   ]
  },
  {
   "cell_type": "markdown",
   "metadata": {},
   "source": [
    "## Representing Numbers\n",
    "Numbers in a computer are written using the **binary number system**. This is a system of numbers,  that only uses ones and zeros. Due to the way computers are physically set up, this is the logical way for representing numbers. In the binary number system every position corresponds to a power of two: $2^0,\\ 2^1,\\ 2^2,\\ 2^3,\\ldots$ etc. Just remember that we read the powers from right to left in ascending order. So the binary number\n",
    "$$\n",
    "10011\n",
    "$$\n",
    "translates to \n",
    "$$\n",
    "2^4+2^1+2^0=19\n",
    "$$\n",
    "This is pretty easy to understand for whole positive numbers. We will later see how computers deal with fractions and negative numbers (spoilers: there will be some math involved).\n",
    "\n",
    "Each one or zero is called a **bit**. You may have heard of 32-bit vs. 64-bit operating systems. This just means that each data point has 32 or 64 bits available to store information. Basically, the more bits you have the bigger the numbers you can store and the more precise your information will be. "
   ]
  },
  {
   "cell_type": "markdown",
   "metadata": {},
   "source": [
    "### Exercise\n",
    "> Determine the decimal representation of the following binary numbers:\n",
    ">\n",
    "> 101\n",
    ">\n",
    "> 10\n",
    ">\n",
    "> 10101\n",
    ">\n",
    "> 111\n",
    ">\n",
    "> 10000\n",
    ">\n",
    "> 11111"
   ]
  },
  {
   "cell_type": "markdown",
   "metadata": {},
   "source": [
    "### Exercise\n",
    ">Determine the binary representation of the following decimal numbers:\n",
    ">\n",
    ">42\n",
    ">\n",
    ">17\n",
    ">\n",
    ">16\n",
    ">\n",
    ">100"
   ]
  },
  {
   "cell_type": "markdown",
   "metadata": {},
   "source": [
    "## Getting Help from the Computer\n",
    "\n",
    "Since the Computer operates with bits and represents decimal numbers as binary numbers, we can also use the help of the computer to convert from one number system to the other. You should be able to do this by hand, but it is sometimes handy to check the result very quickly.\n",
    "\n",
    "In Python you can use the function `bin(number)` to convert a decimal number into its binary representation. You can also use the function `print(str)` to print something out."
   ]
  },
  {
   "cell_type": "code",
   "execution_count": 5,
   "metadata": {},
   "outputs": [
    {
     "name": "stdout",
     "output_type": "stream",
     "text": [
      "0b10001\n"
     ]
    }
   ],
   "source": [
    "# Store the value 17 in the variable number_dec\n",
    "number_dec = 17\n",
    "\n",
    "# Convert whatever value is stored in number_dec into binary representation\n",
    "# and store it in the variable number_bin\n",
    "number_bin = bin(number_dec)\n",
    "\n",
    "# Print out whatever value is stored in the variable number_bin\n",
    "print(number_bin)"
   ]
  },
  {
   "cell_type": "markdown",
   "metadata": {},
   "source": [
    "The output of this code cell might be a bit unfamiliar, espacially the `0b` in front of the binary number. This is just Python letting us know that this is a binary number we are looking at.\n",
    "\n",
    "### From Binary to Decimal\n",
    "\n",
    "We can also convert in the other direction. The function `int(str, base)` provides this functionallity."
   ]
  },
  {
   "cell_type": "code",
   "execution_count": 6,
   "metadata": {},
   "outputs": [
    {
     "name": "stdout",
     "output_type": "stream",
     "text": [
      "26\n"
     ]
    }
   ],
   "source": [
    "# int takes a binary number as string (we do need the ' ' here)\n",
    "# and converts it into a decimal number, according to the base,\n",
    "# which is 2 in this case, and stores it in number_bin\n",
    "#\n",
    "# We need base 2 since we convert from a binary number.\n",
    "number_bin = int('11010', 2)\n",
    "print(number_bin)"
   ]
  },
  {
   "cell_type": "markdown",
   "metadata": {},
   "source": [
    "## Representing Text\n",
    "In order to represent text in a computer every character and command option (e.g. space, tab, line break etc.) has to stored digitally. We do this by  giving each letter, number, punctuation character, special character and command option a number and storing those numbers together with a *translation table* so the computer knows what to show on the screen. This translation table is called a **character set**."
   ]
  },
  {
   "cell_type": "markdown",
   "metadata": {},
   "source": [
    "### ASCII vs. Unicode\n",
    "There are two main character sets you should know of: ASCII which stands for *American Standard Code for Information Interchage* and Unicode which is an initernational extension of ASCII. ASCII uses an 7-bit encoding scheme which allows for 128 different characters, numbers and commands to be encoded. This is sufficient for plain English text but if we want to encode text in other languages where there may be accents on certain letters or completely different alphabets (think Russian or Chinese) these 256 characters get used up pretty quickly. \n",
    "\n",
    "Uniicode is an extension of ASCII in the sense that the ASCII characters remain encoded with the same bits (with some leading zeros added). Currently, Unicode defines 143,859 different characters. The way this works is not trivial. The following video may give you a small insight:"
   ]
  },
  {
   "cell_type": "code",
   "execution_count": 7,
   "metadata": {},
   "outputs": [
    {
     "data": {
      "text/html": [
       "\n",
       "        <iframe\n",
       "            width=\"800\"\n",
       "            height=\"450\"\n",
       "            src=\"https://www.youtube.com/embed/MijmeoH9LT4\"\n",
       "            frameborder=\"0\"\n",
       "            allowfullscreen\n",
       "        ></iframe>\n",
       "        "
      ],
      "text/plain": [
       "<IPython.lib.display.YouTubeVideo at 0x7fd049673940>"
      ]
     },
     "execution_count": 7,
     "metadata": {},
     "output_type": "execute_result"
    }
   ],
   "source": [
    "from IPython.display import YouTubeVideo\n",
    "\n",
    "YouTubeVideo('MijmeoH9LT4', width=800, height=450)"
   ]
  },
  {
   "attachments": {
    "asciifull.gif": {
     "image/gif": "[encoded data removed]"
    }
   },
   "cell_type": "markdown",
   "metadata": {},
   "source": [
    "### Exercise\n",
    "> Use the following ASCII Table to look up the ASCII numbers for the characters in \"Hello\":\n",
    ">![asciifull.gif](attachment:asciifull.gif)"
   ]
  },
  {
   "cell_type": "markdown",
   "metadata": {},
   "source": [
    "## Computer to the Rescue, Again\n",
    "\n",
    "We can also ask Python to lookup a single character in the ASCII-table, as well as giving us the character for a value in the ASCII-table."
   ]
  },
  {
   "cell_type": "code",
   "execution_count": 8,
   "metadata": {},
   "outputs": [
    {
     "name": "stdout",
     "output_type": "stream",
     "text": [
      "72\n"
     ]
    }
   ],
   "source": [
    "# Store the character 'H' in the variable character\n",
    "character = 'H'\n",
    "\n",
    "# Get the ascii value of whatever is stored in character\n",
    "ascii_value = ord(character)\n",
    "\n",
    "# Print out whatever value is stored in ascii_value\n",
    "print(ascii_value)"
   ]
  },
  {
   "cell_type": "markdown",
   "metadata": {},
   "source": [
    "And the other direction can be computed as follows."
   ]
  },
  {
   "cell_type": "code",
   "execution_count": 9,
   "metadata": {},
   "outputs": [
    {
     "name": "stdout",
     "output_type": "stream",
     "text": [
      "A\n"
     ]
    }
   ],
   "source": [
    "# Store the number 65\n",
    "number = 65\n",
    "\n",
    "# Lookup the character for the value 65 in the ASCII-table\n",
    "character = chr(number)\n",
    "\n",
    "# Print the character\n",
    "print(character)"
   ]
  },
  {
   "cell_type": "markdown",
   "metadata": {},
   "source": [
    "## Through the Eyes of a Computer\n",
    "\n",
    "Let's inspect some simple text files throught the eyes of the computer. The code in the next cells is a bit hacky and you don't have to remember this, but the output of the cells is interesting for us, so we do the hacky thing and just look at the output.\n",
    "\n",
    "### Exercise\n",
    "\n",
    "> Execute the next code cell and look at the output."
   ]
  },
  {
   "cell_type": "code",
   "execution_count": 10,
   "metadata": {},
   "outputs": [
    {
     "name": "stdout",
     "output_type": "stream",
     "text": [
      "/usr/local/bin/python: No module named hexdump\r\n"
     ]
    }
   ],
   "source": [
    "!python -m hexdump res/ascii-test.txt"
   ]
  },
  {
   "cell_type": "markdown",
   "metadata": {},
   "source": [
    "#### How to Read this Output\n",
    "\n",
    "On the far left side, you can see the position inside the file. All `0`s means that we start at the beginning of the file, at the first bit. When there are more than one block, the number on the left side tells you which bit is the first number in the middle column.\n",
    "\n",
    "The middle column is the content of the file in hexadecimal. We briefly touched on this in the images chapter. For now you just have to know that it is easier for us to look at the hex values that at the binary values. An it is also easier to display them than decimal values, since we can display them in pairs of two. Each pair in the middle column stands for 8-bits in the original file. This means that we can read each one of these pairs (let's call them bytes) as one character in our file.\n",
    "\n",
    "The right column is the most readable for us. It just contains the characters as we interpret them with the ASCII-table.\n",
    "\n",
    "#### A longer File\n",
    "\n",
    "We can also look at a longer file , so that the output makes a bit more sense to us."
   ]
  },
  {
   "cell_type": "code",
   "execution_count": 11,
   "metadata": {},
   "outputs": [
    {
     "name": "stdout",
     "output_type": "stream",
     "text": [
      "/usr/local/bin/python: No module named hexdump\r\n"
     ]
    }
   ],
   "source": [
    "!python -m hexdump res/ascii-long.txt"
   ]
  },
  {
   "cell_type": "markdown",
   "metadata": {},
   "source": [
    "### Exercise\n",
    "\n",
    "> Lookup some of the bytes in the ASCII-table to verify that the encoding is indeed correct.\n",
    "\n",
    "### Exercise\n",
    "\n",
    "> Look at the middle column. Can you find any values starting with an `8`? Why is this the case?"
   ]
  },
  {
   "cell_type": "markdown",
   "metadata": {},
   "source": [
    "## Representing Images\n",
    "As we saw previously, images are saved by encoding each pixel as a binary number that represents its color in the RGB color space. The number of bits an image needs depends on the number of pixels (dots) per inch **dpi** it uses and its dimensions."
   ]
  },
  {
   "cell_type": "markdown",
   "metadata": {},
   "source": [
    "### Exercise\n",
    "> How many bits of memory does an image use if it is 800 pixels wide, 600 pixels high and uses an 8-bit color space (This is the standard for a GIF)?"
   ]
  },
  {
   "cell_type": "markdown",
   "metadata": {},
   "source": [
    "### Vector Graphics\n",
    "Another method of representing images are so-called **vector graphics**. Here instead of giving each pixel a color value, we pass a set of *drawing instructions* to the computer. For example we may specify where we want to draw a circle and define radius, line width, line color and fill color to get a neatly drawn circle:\n",
    "![](res/Test.svg)\n",
    "\n",
    "The code that draws this circle is \n",
    "```svg\n",
    "<svg width=\"100\" height=\"100\"> \n",
    "    <ellipse style=\"fill:#00ff00;stroke:#000000;\" cx=\"50\" cy=\"50\" rx=\"48\" ry=\"48\">\n",
    "    </ellipse>\n",
    "</svg>\n",
    "```\n",
    "If we want to draw this in a code block we have to preface it with `%%svg`:"
   ]
  },
  {
   "cell_type": "code",
   "execution_count": 12,
   "metadata": {},
   "outputs": [
    {
     "data": {
      "image/svg+xml": [
       "<svg width=\"100\" height=\"100\"> \n",
       "    <ellipse style=\"fill:#00ff00;stroke:#000000;\" cx=\"50\" cy=\"50\" rx=\"48\" ry=\"48\">\n",
       "    </ellipse>\n",
       "</svg>"
      ],
      "text/plain": [
       "<IPython.core.display.SVG object>"
      ]
     },
     "metadata": {},
     "output_type": "display_data"
    }
   ],
   "source": [
    "%%svg\n",
    "<svg width=\"100\" height=\"100\"> \n",
    "    <ellipse style=\"fill:#00ff00;stroke:#000000;\" cx=\"50\" cy=\"50\" rx=\"48\" ry=\"48\">\n",
    "    </ellipse>\n",
    "</svg>"
   ]
  },
  {
   "cell_type": "markdown",
   "metadata": {},
   "source": [
    "### Exercise\n",
    "> Change the circle above so that the radius is larger, the fill color is orange and the stroke color is white."
   ]
  },
  {
   "cell_type": "markdown",
   "metadata": {},
   "source": [
    "### Remark\n",
    "This type of graphic is called **SVG** for *Scalable Vector Graphic*. It uses commands to tell the computer what to draw. The commands are delimited by the symbols `<...>` and `</...>` - so-called **tags**. Vector graphics are very useful for diagrams or geometric images. In these cases they tend to create smaller file sizes. Another key feature of vector graphics is that they are *infinitely scalable*; this means that the memory used does not depend on the output size."
   ]
  },
  {
   "cell_type": "code",
   "execution_count": 13,
   "metadata": {},
   "outputs": [
    {
     "data": {
      "image/svg+xml": [
       "<svg width=\"300\" height=\"100\">\n",
       "    <rect width=\"300\" height=\"100\" style=\"fill:#0000ff\">\n",
       "    </rect>\n",
       "</svg>"
      ],
      "text/plain": [
       "<IPython.core.display.SVG object>"
      ]
     },
     "metadata": {},
     "output_type": "display_data"
    }
   ],
   "source": [
    "%%svg\n",
    "<svg width=\"300\" height=\"100\">\n",
    "    <rect width=\"300\" height=\"100\" style=\"fill:#0000ff\">\n",
    "    </rect>\n",
    "</svg>"
   ]
  },
  {
   "cell_type": "markdown",
   "metadata": {},
   "source": [
    "### Exercise\n",
    "> Regard the rectangle above. How many bits does this image use as a bitmap? How many biits does it use as an SVG graphic?"
   ]
  },
  {
   "cell_type": "markdown",
   "metadata": {},
   "source": [
    "## Representing Video\n",
    "Video can be thought of as an extension of the representation of images. In general a video is comprised of approximately 30 frames (or images) per second at a given resolution."
   ]
  },
  {
   "cell_type": "markdown",
   "metadata": {},
   "source": [
    "### Exercise\n",
    "> Standard HD video is encoded at 720p; this means that it contains 720 rows of pixels in a 16:9 aspect ratio. YouTube's standard color depth is 8 bits per color channel. How many bits does a 90 minute HD film use?"
   ]
  },
  {
   "cell_type": "markdown",
   "metadata": {},
   "source": [
    "## Representing Audio\n",
    "Audio is the trickiest encoding to try to explain in a only few sentences. A lot of complex math is involved, but in its most basic sense we try to translate the sound waves first into electrical signals and these again into ones and zeros. Loudspeakers (or headphones) are actually analog devices: An electrical signal is sent to them and this causes a membrane to vibrate in the exact frequencies necessary to be interpreted correctly by our brains.\n",
    "\n",
    "In order to translate the electric signal to digital, we measure the voltage (frequency) at a certain rate per second - called **sampling**. And store this number in a file. "
   ]
  },
  {
   "cell_type": "markdown",
   "metadata": {},
   "source": [
    "### Exercise\n",
    "> The WAV (Waveform Audio File) format is enoded at a sampling rate of 44'100Hz with 16 bits per sample. How many bits of memory does the WAV encoding of *Bohemian Rhapsody* (runtime: 6 minutes) use? "
   ]
  }
 ],
 "metadata": {
  "kernelspec": {
   "display_name": "Python 3 (ipykernel)",
   "language": "python",
   "name": "python3"
  },
  "language_info": {
   "codemirror_mode": {
    "name": "ipython",
    "version": 3
   },
   "file_extension": ".py",
   "mimetype": "text/x-python",
   "name": "python",
   "nbconvert_exporter": "python",
   "pygments_lexer": "ipython3",
   "version": "3.10.5"
  }
 },
 "nbformat": 4,
 "nbformat_minor": 4
}
