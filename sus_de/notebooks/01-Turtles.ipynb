{
 "cells": [
  {
   "attachments": {
    "example.png": {
     "image/png": "[encoded data removed]"
    }
   },
   "cell_type": "markdown",
   "id": "5f2f478f",
   "metadata": {},
   "source": [
    "# Eine Einführung in die Informatik mit Hilfe von Turtle Grafiken \n",
    "\n",
    "Eine zentrale Aufgabe in der Informatik besteht darin mit einem Computer oder\n",
    "einem Roboter zu kommunizieren. Für uns sind sogenannte *Turtle Grafiken* sehr\n",
    "nützlich, um die Grundlagen des Programmierens zu lernen. Sie haben\n",
    "möglicherweise bereits ähnliche Konzepte auf der Sekundarstufe 1 kennengelernt.\n",
    "\n",
    "Bei *Turtle Grafiken* geht es darum einer Schildkröte Anweisungen zu geben. Die\n",
    "Schildkröte führt dann diese Anweisungen aus.  Interessanter wird dies dadurch,\n",
    "dass die Schildkröte ein Stift in der Hand hält und ihren Verlauf aufzeichnet.\n",
    "Übliche Answiesungen sind dabei sich um um eine gewisse Distanz vorwärts zu\n",
    "bewegen (forward) oder sich im Gegenuhrzeigersinn um einen gewissen Winkel zu\n",
    "drehen (rotate). Mit nur diesen Zwei Instruktionen, lassen sich bereits viele\n",
    "interessante Grafiken generieren:\n",
    "![example.png](attachment:example.png)"
   ]
  },
  {
   "cell_type": "markdown",
   "id": "64c84887",
   "metadata": {},
   "source": [
    "## Jupyter Notebooks\n",
    "\n",
    "Das Dokument, dass Sie gerade anschauen, nennt man **Jupyter Notebook**. Das\n",
    "ist ein interaktives Dokument, welches Python Code ausführen kann. In Jupyter\n",
    "Notebooks gibt es sogenannte **Zellen** (**Cells**). Dies sind Textblöcke, die\n",
    "verschiedene Funktionen haben können. Zum Beispiel lesen Sie gerade eine **Text\n",
    "Zelle**. Eine solche Zelle zeigt bloss Text an. Daneben gibt es auch **Code\n",
    "Zellen**. Der Text in solchen Zellen wird vom Computer  interpretiert und\n",
    "ausgeführt.\n",
    "\n",
    "Um Code in einer code Zelle auszuführen, wählen wir die entsprechende Zelle aus\n",
    "(=drauf klicken). Wenn die Zelle ausgewählt ist erscheint oben auf der Seite\n",
    "ein Knopf mit der Beschriftung `Run`. Wenn Sie diesen Knopf drücken, wird die\n",
    "aktuelle Zelle ausgeführt. Alternativ können Sie auch die Zelle auswählen und\n",
    "mit `ctrl`+`Enter` ausführen."
   ]
  },
  {
   "cell_type": "markdown",
   "id": "5c4bd606",
   "metadata": {},
   "source": [
    "### Ein erstes Beispiel\n",
    "Dies ist das erste Programm, dass wir ausführen werden:\n",
    "```python\n",
    "from gymmu.turtle import *\n",
    "\n",
    "make_turtle()\n",
    "\n",
    "forward(50)\n",
    "turn(60)\n",
    "forward(100)\n",
    "\n",
    "show()\n",
    "```"
   ]
  },
  {
   "cell_type": "markdown",
   "id": "b2fec739",
   "metadata": {},
   "source": [
    "## Die Struktur des Codes\n",
    "\n",
    "Damit der Computer unsere Instruktionen verstehen kann, müssen wir den Code auf\n",
    "einer ganz spezifische Art schreiben. Man nennt dies **syntax**. Zum Beispiel\n",
    "haben alle code Zellen auf dieser Seite einen sogenannten **header**, den wir\n",
    "am Anfang hinschreiben.\n",
    "\n",
    "`from gymmu.turtle import *`\n",
    "\n",
    "> Dies lädt alle nötigen Befehle, die wir brauchen, um Turtle Grafiken zu erstellen.\n",
    "\n",
    "`make_turtle()`\n",
    "\n",
    "> Dies generiert eine neue Schildkröte.\n",
    "\n",
    "Zum Schluss, nach allen unseren Instruktionen, führen wir den folgenden Befehl aus:\n",
    "\n",
    "`show()`\n",
    "\n",
    "> zeichnet die Grafik, die die Schildkröte generiert hat. Dies kann auch\n",
    "> benutzt werden, um die aktuelle Position der Schuldkröte darzustellen.  Dies\n",
    "> ist nützlich, wenn Sie nach Fehlern in ihrem Code suchen.\n",
    "\n",
    "Text mit einem  'hashtag' am Anfang ist ein Kommentar.\n",
    "\n",
    "`# Das ist ein Kommentar`\n",
    "\n",
    "> Dieser Text wird vom Computer ignoriert, ist aber für uns sichtbar.\n",
    "> Kommentare erlauben es uns zu erklären, was gewisse Zeilen oder ganze Blöcke\n",
    "> von Code tun. Bei Arbeiten in Gruppen ist dies sehr nützlich."
   ]
  },
  {
   "cell_type": "markdown",
   "id": "b33fc930",
   "metadata": {},
   "source": [
    "## Erste Schritte\n",
    "\n",
    "Wir beginnen mit zwei Grundbefehlen: `forward` and `turn`. Wir werden mit der\n",
    "Zeit immer mehr und mehr Befehle kennenlernen. Dies erlaubt es uns dann\n",
    "komplexere Bilder effizienter zu zeichnen. \n",
    "\n",
    "`forward(x)`\n",
    "> Bewegt die Schildkröte um 'x' Pixel gerade aus. Beachten Sie, dass sich\n",
    "> gerade aus auf die Blickrichtung der SChildkröte bezieht. Damit die\n",
    "> Schildkröte sich rückwärts bewegt, geben Sie einfach eine negative Zahl ein.\n",
    "> Rückwärtslaufen ändert die Blickrichtung der Schildkröþe nicht.\n",
    "\n",
    "`turn(a)`\n",
    "> Rotiert die Schildkröte um 'a' Grad im Gegenuhrzeigersinn. Sie können auch\n",
    "> einen negativen Winkel verwenden."
   ]
  },
  {
   "cell_type": "markdown",
   "id": "f73d0193",
   "metadata": {},
   "source": [
    "### <span style=\"color: jungle green\"> Beispiel </span>"
   ]
  },
  {
   "cell_type": "code",
   "execution_count": 1,
   "id": "faf06097",
   "metadata": {
    "scrolled": true
   },
   "outputs": [
    {
     "data": {
      "application/vnd.jupyter.widget-view+json": {
       "model_id": "aecf75ac4cf44c9587048d62433151cc",
       "version_major": 2,
       "version_minor": 0
      },
      "text/plain": [
       "Canvas(height=400, sync_image_data=True, width=400)"
      ]
     },
     "metadata": {},
     "output_type": "display_data"
    }
   ],
   "source": [
    "from gymmu.turtle import *\n",
    "\n",
    "make_turtle()\n",
    "\n",
    "forward(50)\n",
    "# This moves the turtle 50 pixels forward.\n",
    "turn(60)\n",
    "# This rotates the turtle by 60 degrees in counter clockwise direction.\n",
    "forward(100)\n",
    "# This moves the turtle 100 pixels forward.\n",
    "\n",
    "show()"
   ]
  },
  {
   "cell_type": "markdown",
   "id": "ab4d3cdb",
   "metadata": {},
   "source": [
    "### <span style=\"color: blue\"> Exercise </span>\n",
    "> Schauen Sie sich das obige Bild an. Wo ist die Schildkröte gestartet? Wo ist\n",
    "> sie gestartet? In welche Richtung schaut die Schildkröte jetzt? \n"
   ]
  },
  {
   "cell_type": "markdown",
   "id": "ae14a8ea",
   "metadata": {},
   "source": [
    "## Jetzt sind Sie dran\n",
    "\n",
    "Wir geben nun der Schildkröte einige Anweisungen. Sie finden unterhalb dieses\n",
    "Textes ein Code Zelle. Diese Zelle beinhaltet bereits einigen Code. Also\n",
    "könnnen wir diesen Code einfach ausführen und schauen was passiert."
   ]
  },
  {
   "cell_type": "code",
   "execution_count": 1,
   "id": "c0565bb8",
   "metadata": {},
   "outputs": [
    {
     "data": {
      "application/vnd.jupyter.widget-view+json": {
       "model_id": "dc6aae1493ba4b6c8cfaf3f53a971951",
       "version_major": 2,
       "version_minor": 0
      },
      "text/plain": [
       "Canvas(height=400, sync_image_data=True, width=400)"
      ]
     },
     "metadata": {},
     "output_type": "display_data"
    }
   ],
   "source": [
    "from gymmu.turtle import *\n",
    "\n",
    "make_turtle()\n",
    "\n",
    "color(\"blue\")\n",
    "forward(50)\n",
    "turn(30)\n",
    "forward(50)\n",
    "\n",
    "show()"
   ]
  },
  {
   "cell_type": "markdown",
   "id": "084bbdf7",
   "metadata": {},
   "source": [
    "Nachdem Sie die Zelle ausgeführt haben sollten Sie einige kleine Linien und\n",
    "eine kleine symbolische Repräsentation der Schildkröte. Das ist das Resultat\n",
    "der Anweisungen, die wir der Schildkröte gegeben haben.\n",
    "\n",
    "Sie können die Anweisungen von Zeilen 5 bis 7 abändern und schauen was\n",
    "passiert. Sie müssen dann den Block allerdings neu ausführen, damit sie das\n",
    "Ergebnis sehen können.\n",
    "\n",
    "Selbstverständlich können Sie auch zusätzliche Anweisungen hinzufügen, in dem\n",
    "Sie einfach neue Zeilen hinzufügen. Wenn Sie damit spielen können Sie versuchen\n",
    "ein Rechteck oder komplexere Formen, wie ein Dreieck, zu zeichnen.\n",
    "\n",
    "### <span style=\"color: blue\"> Übung </span>\n",
    "> Spielen Sie mit der Schildkröte. Können Sie diese dazu bringen das Bild zu\n",
    "> verlassen? Wie weit kann sie laufen, bis sie den Rand erreicht?\n",
    "\n",
    "## Fehler machen/debuggen\n",
    "\n",
    "Ein Vorteil beim Programmieren von Turtle-Grafiken, besteht darin, dass man\n",
    "genau sehen kann was man gerade tut. Es ist leicht ein paar neue Anweisungen\n",
    "anzugeben und zu kontrollieren, ob diese Anweisungen korrekt sind. Das ist sehr\n",
    "wichtig und sollte oft gemacht werden. Denn so kann man Fehler in frühzeitig\n",
    "erkennen. Probiert man ein Programm erst nach hunderten von Zeilen aus, kann es\n",
    "sehr schwierig werden, Fehler zu finden.\n",
    "\n",
    "<!-- It is also very common to make small errors in your code, and the code does not -->\n",
    "<!-- work as you intended. So it is also very important to understand what is -->\n",
    "<!-- happening here. -->\n",
    "\n",
    "Als Erstes sollten Sie wissen, dass es etwas gibt, dass **syntax** heisst. Eine\n",
    "**syntax** definiert wie eine Sprache gelesen werden kann. Da Computer nur sehr\n",
    "präzise und pedantisch formulierte Anweisungen befolgen kann, ist es sehr\n",
    "wichtig sie eine korrekte Syntax zu verwenden. Sobald ein Wort, eine Klammer\n",
    "oder sonst ein Zeichen falsch ist, kann der Computer das Programm nicht mehr\n",
    "ausführen. Wenn Sie obigen Code etwas genauer anschauen, können Sie erkennen,\n",
    "dass die Zahlen nach den Befehlen `forward` und `turn` in Klammern `()`\n",
    "geschrieben werden. Das ist Teil der **Syntax** und ist für den Computer\n",
    "wichtig. Sie können ausprobieren, was passiert, wenn man die Klammern weglässt.\n",
    "\n",
    "Ein anderer Fehlertyp sind **semantische** Fehler. Ein **sematischer** Fehler\n",
    "führt nicht zu einem Absturz des Programms. Das Programm macht aber nicht das,\n",
    "was Sie eigentlich wollten. Fehler der **Semantik** sind sehr häufig und es\n",
    "kann manchmal sehr schwierig sein, diese zu korrigieren. Um einen solchen zu\n",
    "erkennen und zu korrigieren müssen Sie das Programm komplett verstanden haben.\n",
    "\n",
    "It is very easy to make **semantic** errors in the code above, since we have\n",
    "not discussed it in detail. I.e. maybe you added the new instructions at the\n",
    "end of the cell, after the line with `show()`. This would be perfectly fine,\n",
    "but it does not lead to the intended behavior. We want the turtle to execute\n",
    "all the code, and then show the image it drew. If we add the instructions after\n",
    "the line with `show()` you can see that these instructions are not drawn onto\n",
    "the image. You can check that for yourself, just add some instructions before\n",
    "and after the line with `show()` and execute the cell.\n",
    "\n",
    "You can make the same **semantic** error when you give the instructions to the\n",
    "turtle before the line with `make_turtle()`. You can also verify this behaviour\n",
    "for yourself.\n",
    "\n",
    "The process of going through the code and trying to find the errors is known as **debugging** and can be quit difficult if you have a lot of code. The trick is to try to isolate the code blocks that have errors in them from the ones that don’t work and then work your way towards the individual errors."
   ]
  },
  {
   "cell_type": "markdown",
   "id": "b6046b69",
   "metadata": {},
   "source": [
    "## More Instructions\n",
    "\n",
    "To create some complex images we need more instructions that we can give to the\n",
    "turtle. As usually in Computer Science the names of these instructions should\n",
    "be pretty self explanatory. So we just provide a list with the rest of the\n",
    "instructions, without explaining what they do.\n",
    "\n",
    "- `pen_up()`\n",
    "- `pen_down()`\n",
    "- `clear()`\n",
    "- `reset()`\n",
    "- `color('black')`\n",
    "- `stroke_width(2)`\n",
    "\n",
    "Just below this, you can find another code cell, where you can play around with\n",
    "the new commands. This is a common scenario in Computer Science, where you have\n",
    "to build the intuition for the behavior of the code."
   ]
  },
  {
   "cell_type": "code",
   "execution_count": null,
   "id": "4313ec74",
   "metadata": {},
   "outputs": [],
   "source": [
    "from gymmu.turtle import *\n",
    "\n",
    "make_turtle()\n",
    "\n",
    "# TODO: add your instructions here!\n",
    "\n",
    "show()"
   ]
  },
  {
   "cell_type": "markdown",
   "id": "b750e016",
   "metadata": {},
   "source": [
    "### A Brief note on Colors\n",
    "Colors are created in our brains when light of different wavelangths hit our retinas. There we (normally) have three diifferent types of receptors that can each recognize a different basic color (red, green or blue). Every color is therefore a combination of these three basic (or primary) colors.\n",
    "\n",
    "IIf we only want a few different colors, we can use the predfined colors in the browser. A full list of the predefined colors can be found here: https://www.w3schools.com/colors/colors_names.asp\n",
    "\n",
    "If we need different colors or want a specific shade we have to use an RGB (for red, green and blue) value. This is usually written as a six-digit **hexcode** (e.g. `#00FF00` or `#A01BC9`). We will look at these in more detail later. For now just note that the first two digits tell us how much red, the second two digits tell us how much green and the third two digits tell us how much blue to include."
   ]
  },
  {
   "cell_type": "markdown",
   "id": "3678c6e5",
   "metadata": {},
   "source": [
    "### <span style=\"color: blue\"> Exercise </span>\n",
    "> Draw a picture  of a house using the commands you learned above. You can use the code block below."
   ]
  },
  {
   "cell_type": "code",
   "execution_count": null,
   "id": "21607328",
   "metadata": {},
   "outputs": [],
   "source": [
    "from gymmu.turtle import *\n",
    "\n",
    "make_turtle()\n",
    "\n",
    "# Your code goes here\n",
    "\n",
    "show()"
   ]
  },
  {
   "cell_type": "markdown",
   "id": "d02e4597",
   "metadata": {},
   "source": [
    "### <span style=\"color: jungle green\"> Example </span>\n",
    "Let's take a look at the following code:"
   ]
  },
  {
   "cell_type": "code",
   "execution_count": 6,
   "id": "7d8db106",
   "metadata": {},
   "outputs": [
    {
     "data": {
      "application/vnd.jupyter.widget-view+json": {
       "model_id": "6011353623d54bfbae3fea49a3dc71cd",
       "version_major": 2,
       "version_minor": 0
      },
      "text/plain": [
       "Canvas(height=400, sync_image_data=True, width=400)"
      ]
     },
     "metadata": {},
     "output_type": "display_data"
    }
   ],
   "source": [
    "from gymmu.turtle import *\n",
    "\n",
    "make_turtle()\n",
    "\n",
    "pen_up()\n",
    "forward(-170)\n",
    "pen_down()\n",
    "\n",
    "forward(50)\n",
    "turn(90)\n",
    "forward(50)\n",
    "turn(90)\n",
    "forward(50)\n",
    "turn(90)\n",
    "forward(50)\n",
    "turn(90)\n",
    "\n",
    "pen_up()\n",
    "forward(150)\n",
    "pen_down()\n",
    "\n",
    "forward(50)\n",
    "turn(90)\n",
    "forward(50)\n",
    "turn(90)\n",
    "forward(50)\n",
    "turn(90)\n",
    "forward(50)\n",
    "turn(90)\n",
    "\n",
    "pen_up()\n",
    "forward(150)\n",
    "pen_down()\n",
    "\n",
    "forward(50)\n",
    "turn(90)\n",
    "forward(50)\n",
    "turn(90)\n",
    "forward(50)\n",
    "turn(90)\n",
    "forward(50)\n",
    "turn(90)\n",
    "\n",
    "show()"
   ]
  },
  {
   "cell_type": "markdown",
   "id": "fa8f5343",
   "metadata": {},
   "source": [
    "This result was achieved by copying and pasting the code blocks multiple times to get the desired result of three squares. Looking at the code, we can see that it is quite long and seems a bit unwieldy. Also for example if we wanted to change the squares into triangles, we would have to change each block by hand. \n",
    "\n",
    "This seems ineffiecient. In fact there are many tricks and techniques that will allow us to make these drawings more quickly and with more adaptabiliity."
   ]
  },
  {
   "cell_type": "markdown",
   "id": "88c2eba2",
   "metadata": {},
   "source": [
    "## Shortcuts (Functions)\n",
    "\n",
    "In computer science shortcuts are a way of reusing code multiple times. For 'reasons' these aren’t called shortcuts but **functions**. Functions are a computers way of saving a sequence of commands that can be reused later.\n",
    "\n",
    "In python functions have the following structure\n",
    "\n",
    "```python\n",
    "def name():\n",
    "    instructions\n",
    "    instructions\n",
    "    instructions\n",
    "```\n",
    "It is important the the instructions are indented in this manner (The exact number of spaces is not important, but they all have to be indented by the same amount). Use the tab key to indent by four spaces automatiically.\n",
    "\n",
    "Using this idea of a shortcut (or function) we can now write the code above as follows:"
   ]
  },
  {
   "cell_type": "code",
   "execution_count": 2,
   "id": "40046b9f",
   "metadata": {},
   "outputs": [
    {
     "data": {
      "application/vnd.jupyter.widget-view+json": {
       "model_id": "712ba3a3016945d6ad398cd3e43692b6",
       "version_major": 2,
       "version_minor": 0
      },
      "text/plain": [
       "Canvas(height=400, sync_image_data=True, width=400)"
      ]
     },
     "metadata": {},
     "output_type": "display_data"
    }
   ],
   "source": [
    "from gymmu.turtle import *\n",
    "\n",
    "def draw_square():\n",
    "    forward(50)\n",
    "    turn(90)\n",
    "    forward(50)\n",
    "    turn(90)\n",
    "    forward(50)\n",
    "    turn(90)\n",
    "    forward(50)\n",
    "    turn(90)\n",
    "\n",
    "make_turtle()\n",
    "\n",
    "pen_up()\n",
    "forward(-170)\n",
    "pen_down()\n",
    "\n",
    "draw_square()\n",
    "\n",
    "pen_up()\n",
    "forward(150)\n",
    "pen_down()\n",
    "\n",
    "draw_square()\n",
    "\n",
    "pen_up()\n",
    "forward(150)\n",
    "pen_down()\n",
    "\n",
    "draw_square()\n",
    "\n",
    "show()"
   ]
  },
  {
   "cell_type": "markdown",
   "id": "5ae924dd",
   "metadata": {},
   "source": [
    "This code is already much more readable and structured. We can now use this square drawing function to draw many different piictures."
   ]
  },
  {
   "cell_type": "code",
   "execution_count": 4,
   "id": "62c7ed80",
   "metadata": {},
   "outputs": [
    {
     "data": {
      "application/vnd.jupyter.widget-view+json": {
       "model_id": "992b85ca3d50477ba5287f09f95276ae",
       "version_major": 2,
       "version_minor": 0
      },
      "text/plain": [
       "Canvas(height=400, sync_image_data=True, width=400)"
      ]
     },
     "metadata": {},
     "output_type": "display_data"
    }
   ],
   "source": [
    "from gymmu.turtle import *\n",
    "\n",
    "def draw_square():\n",
    "    forward(50)\n",
    "    turn(90)\n",
    "    forward(50)\n",
    "    turn(90)\n",
    "    forward(50)\n",
    "    turn(90)\n",
    "    forward(50)\n",
    "    turn(90)\n",
    "\n",
    "make_turtle()\n",
    "\n",
    "color('aquamarine')\n",
    "\n",
    "draw_square()\n",
    "turn(60)\n",
    "draw_square()\n",
    "turn(60)\n",
    "draw_square()\n",
    "turn(60)\n",
    "draw_square()\n",
    "turn(60)\n",
    "draw_square()\n",
    "turn(60)\n",
    "draw_square()\n",
    "turn(60)\n",
    "\n",
    "\n",
    "show()"
   ]
  },
  {
   "cell_type": "markdown",
   "id": "f7ebcd86",
   "metadata": {},
   "source": [
    "### <span style=\"color: blue\"> Exercise </span>\n",
    "> Write a function that draws an equilateral triangle with sides 50. Use this function to make some nice patterns."
   ]
  },
  {
   "cell_type": "markdown",
   "id": "a6aa06ad",
   "metadata": {},
   "source": [
    "### <span style=\"color: jungle green\"> Example </span>\n",
    "Let's look at the following code and image:"
   ]
  },
  {
   "cell_type": "code",
   "execution_count": 1,
   "id": "189737f4",
   "metadata": {},
   "outputs": [
    {
     "data": {
      "application/vnd.jupyter.widget-view+json": {
       "model_id": "9285063bc51e42cc8d6c074de210840d",
       "version_major": 2,
       "version_minor": 0
      },
      "text/plain": [
       "Canvas(height=400, sync_image_data=True, width=400)"
      ]
     },
     "metadata": {},
     "output_type": "display_data"
    }
   ],
   "source": [
    "from gymmu.turtle import *\n",
    "\n",
    "def draw_square_50():\n",
    "    forward(50)\n",
    "    turn(90)\n",
    "    forward(50)\n",
    "    turn(90)\n",
    "    forward(50)\n",
    "    turn(90)\n",
    "    forward(50)\n",
    "    turn(90)\n",
    "    \n",
    "def draw_square_100():\n",
    "    forward(100)\n",
    "    turn(90)\n",
    "    forward(100)\n",
    "    turn(90)\n",
    "    forward(100)\n",
    "    turn(90)\n",
    "    forward(100)\n",
    "    turn(90)\n",
    "    \n",
    "def draw_square_75():\n",
    "    forward(75)\n",
    "    turn(90)\n",
    "    forward(75)\n",
    "    turn(90)\n",
    "    forward(75)\n",
    "    turn(90)\n",
    "    forward(75)\n",
    "    turn(90)\n",
    "\n",
    "make_turtle()\n",
    "\n",
    "pen_up()\n",
    "forward(-170)\n",
    "pen_down()\n",
    "\n",
    "draw_square_50()\n",
    "\n",
    "pen_up()\n",
    "forward(100)\n",
    "pen_down()\n",
    "\n",
    "draw_square_100()\n",
    "\n",
    "pen_up()\n",
    "forward(150)\n",
    "pen_down()\n",
    "\n",
    "draw_square_75()\n",
    "\n",
    "show()"
   ]
  },
  {
   "cell_type": "markdown",
   "id": "109618e9",
   "metadata": {},
   "source": [
    "Again, there must be an easier way to draw the same shape in three different sizes..."
   ]
  },
  {
   "cell_type": "markdown",
   "id": "cbbdf0d7",
   "metadata": {},
   "source": [
    "## Parameters\n",
    "A **parameter** is a number that is given when calling a function. It is also sometimes called the **argument** of the function:\n",
    "```python\n",
    "def name(a):\n",
    "    instructions\n",
    "    instructions\n",
    "    instructions\n",
    "```\n",
    "Here the `a` is a parameter of the function `name` and we can call the function `name` with different values of `a`."
   ]
  },
  {
   "cell_type": "code",
   "execution_count": 2,
   "id": "233e169d",
   "metadata": {},
   "outputs": [
    {
     "data": {
      "application/vnd.jupyter.widget-view+json": {
       "model_id": "eaa79ea7ff754951a44f1a4539f11b9f",
       "version_major": 2,
       "version_minor": 0
      },
      "text/plain": [
       "Canvas(height=400, sync_image_data=True, width=400)"
      ]
     },
     "metadata": {},
     "output_type": "display_data"
    }
   ],
   "source": [
    "from gymmu.turtle import *\n",
    "\n",
    "def draw_square(a):\n",
    "    forward(a)\n",
    "    turn(90)\n",
    "    forward(a)\n",
    "    turn(90)\n",
    "    forward(a)\n",
    "    turn(90)\n",
    "    forward(a)\n",
    "    turn(90)\n",
    "\n",
    "\n",
    "make_turtle()\n",
    "\n",
    "pen_up()\n",
    "forward(-170)\n",
    "pen_down()\n",
    "\n",
    "draw_square(50)\n",
    "\n",
    "pen_up()\n",
    "forward(100)\n",
    "pen_down()\n",
    "\n",
    "draw_square(100)\n",
    "\n",
    "pen_up()\n",
    "forward(150)\n",
    "pen_down()\n",
    "\n",
    "draw_square(75)\n",
    "\n",
    "show()"
   ]
  },
  {
   "cell_type": "markdown",
   "id": "960db867",
   "metadata": {},
   "source": [
    "Much better! Here the `a` stands for the length of the sides of the squares and can be changed every time we call the function `draw_square`."
   ]
  },
  {
   "cell_type": "markdown",
   "id": "b54b1e65",
   "metadata": {},
   "source": [
    "## Repeating Commands (Loops)\n",
    "\n",
    "You may have noticed that in the example above the function just contains multiple repetitions of the sequence\n",
    "```python\n",
    "forward(50)\n",
    "turn(90)\n",
    "```\n",
    "As before there is an elegant way for writing this code in a shorter fashion. IIn this case we call these **loops**. A loop in computer science is a set of commands that is executed until a specific condition is met.\n",
    "\n",
    "In python loops are defined as follows:\n",
    "```python\n",
    "for i in range(n):\n",
    "    instructions\n",
    "    instructions\n",
    "    instructions\n",
    "```\n",
    "Here there will be n repetitions of the commands defined in the instructions. Usinig this we can now shorten our code from above even more (please note the double indentation):"
   ]
  },
  {
   "cell_type": "code",
   "execution_count": 3,
   "id": "8318e9bd",
   "metadata": {},
   "outputs": [
    {
     "data": {
      "application/vnd.jupyter.widget-view+json": {
       "model_id": "bfe3103ba13b4a7eac466578d8faf642",
       "version_major": 2,
       "version_minor": 0
      },
      "text/plain": [
       "Canvas(height=400, sync_image_data=True, width=400)"
      ]
     },
     "metadata": {},
     "output_type": "display_data"
    }
   ],
   "source": [
    "from gymmu.turtle import *\n",
    "\n",
    "def draw_square(a):\n",
    "    for i in range(4):\n",
    "        forward(a)\n",
    "        turn(90)\n",
    "\n",
    "make_turtle()\n",
    "\n",
    "pen_up()\n",
    "forward(-170)\n",
    "pen_down()\n",
    "\n",
    "draw_square(50)\n",
    "\n",
    "pen_up()\n",
    "forward(150)\n",
    "pen_down()\n",
    "\n",
    "draw_square(50)\n",
    "\n",
    "pen_up()\n",
    "forward(150)\n",
    "pen_down()\n",
    "\n",
    "draw_square(50)\n",
    "\n",
    "show()"
   ]
  },
  {
   "cell_type": "markdown",
   "id": "d37a7277",
   "metadata": {},
   "source": [
    "We can go even further and use the for loop a second time:"
   ]
  },
  {
   "cell_type": "code",
   "execution_count": 5,
   "id": "22bba042",
   "metadata": {},
   "outputs": [
    {
     "data": {
      "application/vnd.jupyter.widget-view+json": {
       "model_id": "28095535ed5d46b68ac44373ac5d4e05",
       "version_major": 2,
       "version_minor": 0
      },
      "text/plain": [
       "Canvas(height=400, sync_image_data=True, width=400)"
      ]
     },
     "metadata": {},
     "output_type": "display_data"
    }
   ],
   "source": [
    "from gymmu.turtle import *\n",
    "\n",
    "def draw_square(a):\n",
    "    for i in range(4):\n",
    "        forward(a)\n",
    "        turn(90)\n",
    "\n",
    "make_turtle()\n",
    "\n",
    "pen_up()\n",
    "forward(-170)\n",
    "pen_down()\n",
    "\n",
    "for i in range(3):\n",
    "    draw_square(50)\n",
    "\n",
    "    pen_up()\n",
    "    forward(150)\n",
    "    pen_down()\n",
    "\n",
    "show()"
   ]
  },
  {
   "cell_type": "markdown",
   "id": "68191cda",
   "metadata": {},
   "source": [
    "We can go even further with the idea of shortening our code using functions. Basically, any time we use the same or simiilar code multiple times it may be useful to write a function:"
   ]
  },
  {
   "cell_type": "code",
   "execution_count": 4,
   "id": "c0e49612",
   "metadata": {},
   "outputs": [
    {
     "data": {
      "application/vnd.jupyter.widget-view+json": {
       "model_id": "97f247be1e4642cf88abd5ef8999a73d",
       "version_major": 2,
       "version_minor": 0
      },
      "text/plain": [
       "Canvas(height=400, sync_image_data=True, width=400)"
      ]
     },
     "metadata": {},
     "output_type": "display_data"
    }
   ],
   "source": [
    "from gymmu.turtle import *\n",
    "\n",
    "def draw_square(a):\n",
    "    for i in range(4):\n",
    "        forward(a)\n",
    "        turn(90)\n",
    "\n",
    "def jump(b):\n",
    "    pen_up()\n",
    "    forward(b)\n",
    "    pen_down()\n",
    "        \n",
    "make_turtle()\n",
    "\n",
    "jump(-170)\n",
    "\n",
    "for i in range(3):\n",
    "    draw_square(50)\n",
    "    jump(150)\n",
    "\n",
    "show()"
   ]
  },
  {
   "cell_type": "markdown",
   "id": "414584c4",
   "metadata": {},
   "source": [
    "### <span style=\"color: blue\"> Exercise </span>\n",
    "> Why is the turtle no longer visible in the last image?"
   ]
  },
  {
   "cell_type": "markdown",
   "id": "97c9075d",
   "metadata": {},
   "source": [
    "### <span style=\"color: blue\"> Exercise </span>\n",
    "> Write a function that takes a parameter 'n' and draws a regular polygon with n sides of length 50. (A square is a regular polygon with 4 sides etc.)\n",
    ">\n",
    "> Additional exercise: Allow the function to take an additional parameter defining the length of the sides."
   ]
  },
  {
   "cell_type": "markdown",
   "id": "e153274d",
   "metadata": {},
   "source": [
    "### <span style=\"color: blue\"> Exercise </span>\n",
    "> Write a function draw_triangle() and a function draw_square() to create the following image:\n",
    "> <img src=\"res/three_houses.png\">"
   ]
  },
  {
   "cell_type": "markdown",
   "id": "cae5fa72",
   "metadata": {},
   "source": [
    "## Random Walks\n",
    "Randomness is an important concept in computer science and we will look into it more deeply later. However, for the moment we can use built in random generators to create images and patterns.\n",
    "\n",
    "The python command `randint(a,b)` takes two integers a and b as the input and gives a random number between a and b (both included) as the output. In order to use the command we have to import it from a so called 'library'.:\n",
    "```python\n",
    "from random import randint\n",
    "```\n",
    "Below you can see an example of a random walk. In each step the direction of the turtle is randomly chosen between up, down, left or right. Then the turtle moves 15 pixels in that direction."
   ]
  },
  {
   "cell_type": "markdown",
   "id": "56772028",
   "metadata": {},
   "source": [
    "### <span style=\"color: jungle green\"> Example </span>"
   ]
  },
  {
   "cell_type": "code",
   "execution_count": 21,
   "id": "9c5a5c5e",
   "metadata": {},
   "outputs": [
    {
     "data": {
      "application/vnd.jupyter.widget-view+json": {
       "model_id": "d1d6ef9a0d8e41f8aa38431fed4c8276",
       "version_major": 2,
       "version_minor": 0
      },
      "text/plain": [
       "Canvas(height=400, sync_image_data=True, width=400)"
      ]
     },
     "metadata": {},
     "output_type": "display_data"
    }
   ],
   "source": [
    "from gymmu.turtle import *\n",
    "from random import randint\n",
    "\n",
    "make_turtle()\n",
    "\n",
    "for i in range(300):\n",
    "    turn(randint(0,3)*90)\n",
    "    forward(15)\n",
    "\n",
    "\n",
    "show()"
   ]
  },
  {
   "cell_type": "code",
   "execution_count": 22,
   "id": "c80a136b",
   "metadata": {},
   "outputs": [
    {
     "data": {
      "application/vnd.jupyter.widget-view+json": {
       "model_id": "45b4701ce45746c0a63a4753940005c6",
       "version_major": 2,
       "version_minor": 0
      },
      "text/plain": [
       "Canvas(height=400, sync_image_data=True, width=400)"
      ]
     },
     "metadata": {},
     "output_type": "display_data"
    }
   ],
   "source": [
    "from gymmu.turtle import *\n",
    "from random import randint\n",
    "\n",
    "make_turtle()\n",
    "\n",
    "for i in range(300):\n",
    "    x=randint(1,3)\n",
    "    turn(x*90)\n",
    "    forward(15)\n",
    "\n",
    "\n",
    "show()"
   ]
  },
  {
   "cell_type": "markdown",
   "id": "07554e8b",
   "metadata": {},
   "source": [
    "We can now use this idea to draw some random squares"
   ]
  },
  {
   "cell_type": "code",
   "execution_count": 24,
   "id": "3716aa88",
   "metadata": {},
   "outputs": [
    {
     "data": {
      "application/vnd.jupyter.widget-view+json": {
       "model_id": "ab0c152ff870404ba80385dae65900d2",
       "version_major": 2,
       "version_minor": 0
      },
      "text/plain": [
       "Canvas(height=400, sync_image_data=True, width=400)"
      ]
     },
     "metadata": {},
     "output_type": "display_data"
    }
   ],
   "source": [
    "from gymmu.turtle import *\n",
    "from random import randint\n",
    "\n",
    "def draw_square(a):\n",
    "    for i in range(4):\n",
    "        forward(a)\n",
    "        turn(90)\n",
    "\n",
    "def jump(b):\n",
    "    pen_up()\n",
    "    forward(b)\n",
    "    pen_down()\n",
    "        \n",
    "make_turtle()\n",
    "\n",
    "jump(-170)\n",
    "\n",
    "for i in range(3):\n",
    "    x=randint(1,5)\n",
    "    draw_square(x*10)\n",
    "    jump(150)\n",
    "\n",
    "show()"
   ]
  }
 ],
 "metadata": {
  "kernelspec": {
   "display_name": "Python 3",
   "language": "python",
   "name": "python3"
  },
  "language_info": {
   "codemirror_mode": {
    "name": "ipython",
    "version": 3
   },
   "file_extension": ".py",
   "mimetype": "text/x-python",
   "name": "python",
   "nbconvert_exporter": "python",
   "pygments_lexer": "ipython3",
   "version": "3.10.5"
  }
 },
 "nbformat": 4,
 "nbformat_minor": 5
}
