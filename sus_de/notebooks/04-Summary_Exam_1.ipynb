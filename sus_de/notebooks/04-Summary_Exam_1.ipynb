{
 "cells": [
  {
   "cell_type": "markdown",
   "id": "56911b13",
   "metadata": {},
   "source": [
    "# Summary Part 1\n",
    "\n",
    "## Turtle Graphics\n",
    "\n",
    "Turtle Graphics are a concept in Computer Science to teach programming skills. By giving commands to a turtle you can draw some very complex pictures.\n",
    "\n",
    "### Example"
   ]
  },
  {
   "cell_type": "code",
   "execution_count": null,
   "id": "fb03c40b",
   "metadata": {},
   "outputs": [],
   "source": [
    "from gymmu.turtle import *\n",
    "\n",
    "make_turtle()\n",
    "\n",
    "forward(100)\n",
    "turn(90)\n",
    "forward(50)\n",
    "\n",
    "show()"
   ]
  },
  {
   "cell_type": "markdown",
   "id": "52209a54",
   "metadata": {},
   "source": [
    "## Loops\n",
    "\n",
    "Drawing complex shapes with only these instructions is very cumbersome, so there are of course tools to make life easier.\n",
    "\n",
    "### Example"
   ]
  },
  {
   "cell_type": "code",
   "execution_count": null,
   "id": "2146e3d9",
   "metadata": {},
   "outputs": [],
   "source": [
    "from gymmu.turtle import *\n",
    "\n",
    "make_turtle()\n",
    "\n",
    "for i in range(6):\n",
    "    forward(50)\n",
    "    turn(60)\n",
    "    \n",
    "show()"
   ]
  },
  {
   "cell_type": "markdown",
   "id": "0d57d0f6",
   "metadata": {},
   "source": [
    "## Structuring your Code\n",
    "\n",
    "You can also save code snippets in *functions*, so you don't have to retype them every time.\n",
    "\n",
    "### Example"
   ]
  },
  {
   "cell_type": "code",
   "execution_count": null,
   "id": "d048b17f",
   "metadata": {},
   "outputs": [],
   "source": [
    "from gymmu.turtle import *\n",
    "\n",
    "def square():\n",
    "    for i in range(4):\n",
    "        forward(50)\n",
    "        turn(90)\n",
    "\n",
    "make_turtle()\n",
    "\n",
    "square()\n",
    "\n",
    "pen_up()\n",
    "forward(100)\n",
    "pen_down()\n",
    "\n",
    "square()\n",
    "    \n",
    "show()"
   ]
  },
  {
   "cell_type": "markdown",
   "id": "8933f08e",
   "metadata": {},
   "source": [
    "## Parameters\n",
    "\n",
    "We can also controll how a *function* should behave by using **parameters**.\n",
    "\n",
    "### Example"
   ]
  },
  {
   "cell_type": "code",
   "execution_count": null,
   "id": "a052a18c",
   "metadata": {},
   "outputs": [],
   "source": [
    "from gymmu.turtle import *\n",
    "\n",
    "def square(side_length):\n",
    "    for i in range(4):\n",
    "        forward(side_length)\n",
    "        turn(90)\n",
    "        \n",
    "make_turtle()\n",
    "\n",
    "square(20)\n",
    "\n",
    "pen_up()\n",
    "forward(50)\n",
    "pen_down()\n",
    "\n",
    "square(50)\n",
    "\n",
    "show()"
   ]
  },
  {
   "cell_type": "markdown",
   "id": "8b3aab5b",
   "metadata": {},
   "source": [
    "## Images\n",
    "\n",
    "What we think of images is just a list of values for the computer. To display an image, the computer gets special instructions how to deal with the data. We now manipulate these data to achieve certain effects in an image.\n",
    "\n",
    "### Example"
   ]
  },
  {
   "cell_type": "code",
   "execution_count": null,
   "id": "000adf3c",
   "metadata": {},
   "outputs": [],
   "source": [
    "from gymmu.images import *\n",
    "\n",
    "data = [1, 0, 0, 1]\n",
    "\n",
    "write_image_from_data(data)"
   ]
  },
  {
   "cell_type": "markdown",
   "id": "09704cd6",
   "metadata": {},
   "source": [
    "## Colors\n",
    "\n",
    "We can tell the computer to use color channels, so that we have colored output. We just need to structure the data in a specific way, and use another function that can draw images based on these information.\n",
    "\n",
    "### Example"
   ]
  },
  {
   "cell_type": "code",
   "execution_count": null,
   "id": "a62a8e70",
   "metadata": {},
   "outputs": [],
   "source": [
    "from gymmu.images import *\n",
    "\n",
    "data = [\n",
    "    255, 0, 0,  # Pixel 1\n",
    "    0, 255, 0,  # Pixel 2\n",
    "    0, 0, 255,  # Pixel 3\n",
    "    255, 0, 255 # Pixel 4\n",
    "]\n",
    "\n",
    "write_image_from_data_rgb(data)"
   ]
  },
  {
   "cell_type": "markdown",
   "id": "2d3ec274",
   "metadata": {},
   "source": [
    "## Large Pictures\n",
    "\n",
    "To create big pictures, we don't want to type in every single pixel, so we use loops to generate these pictures.\n",
    "\n",
    "### Example"
   ]
  },
  {
   "cell_type": "code",
   "execution_count": null,
   "id": "c2bdb2d8",
   "metadata": {},
   "outputs": [],
   "source": [
    "from gymmu.images import *\n",
    "from random import randint\n",
    "\n",
    "data = []\n",
    "\n",
    "for i in range(10**2):\n",
    "    data.append(255)              # Red Channel\n",
    "    data.append(randint(0, 255))  # Green Channel\n",
    "    data.append(randint(0, 128))  # Blue Channel\n",
    "    \n",
    "write_image_from_data_rgb(data)"
   ]
  },
  {
   "cell_type": "markdown",
   "id": "ee909363",
   "metadata": {},
   "source": [
    "## Manipulate Images\n",
    "\n",
    "We can also manipulate images by changing the specific values of their pixels. We also need loops here to be efficient.\n",
    "\n",
    "### Example"
   ]
  },
  {
   "cell_type": "code",
   "execution_count": null,
   "id": "edc2af2d",
   "metadata": {},
   "outputs": [],
   "source": [
    "from gymmu.images import *\n",
    "from gymmu.turtle import *\n",
    "from IPython.display import clear_output\n",
    "from random import randint\n",
    "\n",
    "data = []\n",
    "\n",
    "for i in range(10**2):\n",
    "    data.append(255)\n",
    "    data.append(randint(0, 255))\n",
    "    data.append(randint(0, 128))\n",
    "    \n",
    "display(write_image_from_data_rgb(data))\n",
    "\n",
    "sleep(0.5)\n",
    "\n",
    "for i in range(0, len(data), 3):\n",
    "    data[i] = 0\n",
    "    \n",
    "    # Only for the animation\n",
    "    clear_output(wait=True)\n",
    "    display(write_image_from_data_rgb(data))\n",
    "    sleep(0.1)"
   ]
  },
  {
   "cell_type": "code",
   "execution_count": null,
   "id": "a7a02493-a26e-4f56-a55e-a776b7c77639",
   "metadata": {},
   "outputs": [],
   "source": []
  }
 ],
 "metadata": {
  "kernelspec": {
   "display_name": "Python 3 (ipykernel)",
   "language": "python",
   "name": "python3"
  },
  "language_info": {
   "codemirror_mode": {
    "name": "ipython",
    "version": 3
   },
   "file_extension": ".py",
   "mimetype": "text/x-python",
   "name": "python",
   "nbconvert_exporter": "python",
   "pygments_lexer": "ipython3",
   "version": "3.9.6"
  }
 },
 "nbformat": 4,
 "nbformat_minor": 5
}
