{
 "cells": [
  {
   "cell_type": "markdown",
   "id": "af5aa21b",
   "metadata": {},
   "source": [
    "# Encryption"
   ]
  },
  {
   "cell_type": "code",
   "execution_count": 44,
   "id": "bfd6078e",
   "metadata": {},
   "outputs": [
    {
     "data": {
      "text/plain": [
       "'ATTACKATDAWN'"
      ]
     },
     "execution_count": 44,
     "metadata": {},
     "output_type": "execute_result"
    }
   ],
   "source": [
    "def encrypt(text, key, dir=1):\n",
    "    res = \"\"\n",
    "    text = text.upper()\n",
    "    key = key.upper()\n",
    "    i = 0\n",
    "    for c in text:\n",
    "        lower = 65\n",
    "        if ord(c) >= lower and ord(c) < lower + 26:\n",
    "            sc = ord(c) - lower\n",
    "            shift = ord(key[i % len(key)]) - 65\n",
    "            sc = sc + shift * dir\n",
    "            sc = sc % 26\n",
    "            sc = sc + lower\n",
    "            c = chr(sc)\n",
    "            i = i + 1\n",
    "            \n",
    "        res = res + c\n",
    "    \n",
    "    return res\n",
    "\n",
    "encrypt(\"LXFOPVEFRNHR\", \"lemon\", -1)"
   ]
  },
  {
   "cell_type": "code",
   "execution_count": 37,
   "id": "d38bba59",
   "metadata": {},
   "outputs": [
    {
     "data": {
      "text/plain": [
       "3"
      ]
     },
     "execution_count": 37,
     "metadata": {},
     "output_type": "execute_result"
    }
   ],
   "source": [
    "t = \"abcd\".upper()\n",
    "\n",
    "ord(t[3]) - 65"
   ]
  }
 ],
 "metadata": {
  "kernelspec": {
   "display_name": "Python 3 (ipykernel)",
   "language": "python",
   "name": "python3"
  },
  "language_info": {
   "codemirror_mode": {
    "name": "ipython",
    "version": 3
   },
   "file_extension": ".py",
   "mimetype": "text/x-python",
   "name": "python",
   "nbconvert_exporter": "python",
   "pygments_lexer": "ipython3",
   "version": "3.9.9"
  }
 },
 "nbformat": 4,
 "nbformat_minor": 5
}
