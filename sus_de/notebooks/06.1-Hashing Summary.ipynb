{
 "cells": [
  {
   "cell_type": "markdown",
   "id": "ff6a540a",
   "metadata": {},
   "source": [
    "# Hashing Summary"
   ]
  },
  {
   "cell_type": "code",
   "execution_count": 6,
   "id": "792d3e22",
   "metadata": {},
   "outputs": [
    {
     "data": {
      "text/plain": [
       "'d79096188b670c2f81b7001f73801117'"
      ]
     },
     "execution_count": 6,
     "metadata": {},
     "output_type": "execute_result"
    }
   ],
   "source": [
    "from hashlib import md5\n",
    "\n",
    "text = \"passw\"\n",
    "\n",
    "md5(text.encode()).hexdigest()"
   ]
  },
  {
   "cell_type": "markdown",
   "id": "1ca4fe25",
   "metadata": {},
   "source": [
    "## Bruteforcing a Hashed Password"
   ]
  },
  {
   "cell_type": "code",
   "execution_count": 7,
   "id": "0246a65b",
   "metadata": {},
   "outputs": [
    {
     "name": "stdout",
     "output_type": "stream",
     "text": [
      "passw\n",
      "CPU times: user 6.48 s, sys: 0 ns, total: 6.48 s\n",
      "Wall time: 6.49 s\n"
     ]
    }
   ],
   "source": [
    "%%time\n",
    "from itertools import product\n",
    "from hashlib import md5\n",
    "\n",
    "base = \"abcdefghijklmnopqrstuvwxyz\"\n",
    "\n",
    "hash_pw = 'd79096188b670c2f81b7001f73801117'\n",
    "\n",
    "for pw in product(base, repeat=5):\n",
    "    text_pw = \"\".join(pw)\n",
    "    if hash_pw == md5(text_pw.encode()).hexdigest():\n",
    "        print(text_pw)"
   ]
  },
  {
   "cell_type": "markdown",
   "id": "64461bcb",
   "metadata": {},
   "source": [
    "## Password Length\n",
    "\n",
    "When we assume that a user only uses randomly generated passwords, we can compute all the possible passwords with the following formula:\n",
    "\n",
    "$$ (N)^n, $$\n",
    "\n",
    "where $N$ is the number of possible characters and $n$ is the length of the password."
   ]
  },
  {
   "cell_type": "code",
   "execution_count": 12,
   "id": "fafd514f",
   "metadata": {},
   "outputs": [
    {
     "name": "stdout",
     "output_type": "stream",
     "text": [
      "With 102 possible characters and a length of 4, 108243216 passwords are possible.\n",
      "Time to brute force 108243216 passwords: 0.0 days\n",
      "\n",
      "With 102 possible characters and a length of 5, 11040808032 passwords are possible.\n",
      "Time to brute force 11040808032 passwords: 0.0 days\n",
      "\n",
      "With 102 possible characters and a length of 6, 1126162419264 passwords are possible.\n",
      "Time to brute force 1126162419264 passwords: 1.3 days\n",
      "\n",
      "With 102 possible characters and a length of 7, 114868566764928 passwords are possible.\n",
      "Time to brute force 114868566764928 passwords: 132.9 days\n",
      "\n",
      "With 102 possible characters and a length of 8, 11716593810022656 passwords are possible.\n",
      "Time to brute force 11716593810022656 passwords: 13560.9 days\n",
      "\n",
      "With 102 possible characters and a length of 9, 1195092568622310912 passwords are possible.\n",
      "Time to brute force 1195092568622310912 passwords: 1383209.0 days\n",
      "\n"
     ]
    }
   ],
   "source": [
    "def compute_possible_passwords(num_chars, pw_length):\n",
    "    num_pws = num_chars**pw_length\n",
    "    print(f\"With {num_chars} possible characters and a length of {pw_length}, {num_pws} passwords are possible.\")\n",
    "    print(f\"Time to brute force {num_pws} passwords: {num_pws / (10_000_000 * 3600 * 24):.1f} days\")\n",
    "    print()\n",
    "    \n",
    "\n",
    "for i in range(4, 10):\n",
    "    compute_possible_passwords(26*2 + 10 + 40, i)"
   ]
  },
  {
   "cell_type": "markdown",
   "id": "a8712b73",
   "metadata": {},
   "source": [
    "## Salted Hashes\n",
    "\n",
    "To make hashes harder to crack, but easy to remember for the user, we append a salt to the password, and hash this combined string."
   ]
  },
  {
   "cell_type": "code",
   "execution_count": 15,
   "id": "01a01d17",
   "metadata": {},
   "outputs": [
    {
     "name": "stdout",
     "output_type": "stream",
     "text": [
      "b2ca5756f00f6fc59075f3a4a9f00191\n"
     ]
    }
   ],
   "source": [
    "pw = 'super_secure'\n",
    "salt = '9wqezrakjsdcQT%QETZUASFvansovciavQTTQFAJOVMASDV'\n",
    "\n",
    "salted_pw = 'super_secure_salt'\n",
    "combined_pw = pw + salt\n",
    "\n",
    "print(md5(combined_pw.encode()).hexdigest())\n",
    "#print(md5(salted_pw.encode()).hexdigest())"
   ]
  },
  {
   "cell_type": "code",
   "execution_count": 16,
   "id": "685efa57",
   "metadata": {},
   "outputs": [
    {
     "name": "stdout",
     "output_type": "stream",
     "text": [
      "With 27 possible characters and a length of 12, 150094635296999121 passwords are possible.\n",
      "Time to brute force 150094635296999121 passwords: 173720.6 days\n",
      "\n",
      "With 27 possible characters and a length of 59, 2821383260958014531084804730393168953719437088977599878666724657220634716408631037763 passwords are possible.\n",
      "Time to brute force 2821383260958014531084804730393168953719437088977599878666724657220634716408631037763 passwords: 3265489885368072419437588355282737233307436267284498897555770622779326464.0 days\n",
      "\n"
     ]
    }
   ],
   "source": [
    "compute_possible_passwords(26 + 1, len(pw))\n",
    "compute_possible_passwords(26 + 1, len(combined_pw))"
   ]
  },
  {
   "cell_type": "code",
   "execution_count": 17,
   "id": "e4be9b47",
   "metadata": {},
   "outputs": [
    {
     "name": "stdout",
     "output_type": "stream",
     "text": [
      "With 72 possible characters and a length of 26, 1952742179632648180960375487281873152836427055104 passwords are possible.\n",
      "Time to brute force 1952742179632648180960375487281873152836427055104 passwords: 2260118263463713188085314809459900416.0 days\n",
      "\n"
     ]
    }
   ],
   "source": [
    "text = \"sonne$hund_dReizehn.schulE\"\n",
    "compute_possible_passwords(26 * 2 + 10 + 10, len(text))"
   ]
  }
 ],
 "metadata": {
  "kernelspec": {
   "display_name": "Python 3 (ipykernel)",
   "language": "python",
   "name": "python3"
  },
  "language_info": {
   "codemirror_mode": {
    "name": "ipython",
    "version": 3
   },
   "file_extension": ".py",
   "mimetype": "text/x-python",
   "name": "python",
   "nbconvert_exporter": "python",
   "pygments_lexer": "ipython3",
   "version": "3.9.7"
  }
 },
 "nbformat": 4,
 "nbformat_minor": 5
}
