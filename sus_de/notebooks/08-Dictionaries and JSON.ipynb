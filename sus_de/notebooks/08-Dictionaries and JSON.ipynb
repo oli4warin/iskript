{
 "cells": [
  {
   "cell_type": "markdown",
   "metadata": {},
   "source": [
    "# Dictionaries and JSON\n",
    "\n",
    "You already know the concept of a variable. We can store different data in a single variable. A very simple example would be the following code."
   ]
  },
  {
   "cell_type": "code",
   "execution_count": null,
   "metadata": {},
   "outputs": [],
   "source": [
    "name = 'Peter'\n",
    "age = 23\n",
    "\n",
    "print(f\"{name} is {age} years old\")"
   ]
  },
  {
   "cell_type": "markdown",
   "metadata": {},
   "source": [
    "This looks very simple and it also makes sense. But consider the case we have more than 1 person, which means we would have to come up with a naming scheme.\n",
    "\n",
    "### Exercise\n",
    "\n",
    "Consider the following code and discuss the downsides of it."
   ]
  },
  {
   "cell_type": "code",
   "execution_count": null,
   "metadata": {},
   "outputs": [],
   "source": [
    "name_1 = 'Peter'\n",
    "age_1 = 23\n",
    "\n",
    "print(f\"{name_1} is {age_1} years old\")\n",
    "\n",
    "name_2 = 'Mary'\n",
    "age_2 = 19\n",
    "\n",
    "print(f\"{name_2} is {age_2} years old\")"
   ]
  },
  {
   "cell_type": "markdown",
   "metadata": {},
   "source": [
    "This code has a lot of duplication an we also have to know that the suffix `_1` belongs to Peter. It is also not perfectly clear that all the variables with suffix `_1` belong together.\n",
    "\n",
    "We further don't know that a person can have an age assigned, this is not clear from the code.\n",
    "\n",
    "## Dictionaries\n",
    "\n",
    "Consider the code in the next cell, this should make things clearer."
   ]
  },
  {
   "cell_type": "code",
   "execution_count": null,
   "metadata": {},
   "outputs": [],
   "source": [
    "person_1 = {\n",
    "    'name': 'Peter',\n",
    "    'age': 23\n",
    "}\n",
    "\n",
    "print(f\"{person_1.get('name')} is {person_1.get('age')} years old.\")"
   ]
  },
  {
   "cell_type": "markdown",
   "metadata": {},
   "source": [
    "This is a much cleaner way to bind data together in a logical sense.\n",
    "\n",
    "### Exercise\n",
    "\n",
    "> Create an object of a person with more data. Include a lastname, an address, a phone number and an email address. You can also add more fields like hobbies of friends."
   ]
  },
  {
   "cell_type": "code",
   "execution_count": null,
   "metadata": {},
   "outputs": [],
   "source": [
    "person = {\n",
    "    \n",
    "}\n",
    "\n",
    "print(f\"{person=}\")"
   ]
  },
  {
   "cell_type": "markdown",
   "metadata": {},
   "source": [
    "## List inside Objects\n",
    "\n",
    "In the last exercise you had the problem that a person can have more than one hobby and also more than one friend. This is very easy to deal with. We can just use lists inside of an object for this."
   ]
  },
  {
   "cell_type": "code",
   "execution_count": null,
   "metadata": {},
   "outputs": [],
   "source": [
    "person = {\n",
    "    'name': 'John',\n",
    "    'hobbies': ['math', 'computer science']\n",
    "}\n",
    "\n",
    "print(f\"{person=}\")"
   ]
  },
  {
   "cell_type": "markdown",
   "metadata": {},
   "source": [
    "This should not come as a suprise, since we already used different data types inside of the object. When you consider the first cell, we had the following object:\n",
    "\n",
    "```python\n",
    "person = {\n",
    "    'name': 'Peter',\n",
    "    'age': 23\n",
    "}\n",
    "```\n",
    "\n",
    "In this example the field `'name'` is of type string and the field `'age'` is of type integer. So using a list is the same thing, we just apply another data type to a field. If we take things further from here, you can see that you can also put an object inside of an object. We can take thing even further and also put functions inside of an object, but we don't do this here.\n",
    "\n",
    "### Exercise\n",
    "\n",
    "> Create an object family that has at least 2 persons in it."
   ]
  },
  {
   "cell_type": "code",
   "execution_count": null,
   "metadata": {},
   "outputs": [],
   "source": [
    "family = {\n",
    "}\n",
    "\n",
    "print(f\"{family=}\")"
   ]
  },
  {
   "cell_type": "markdown",
   "metadata": {},
   "source": [
    "## Designing an Object\n",
    "\n",
    "As you saw with the family, it is not clear how to design your object. You could say that a family is an object with a field `'family name'` and a field `'members'` with all the family members as a list. But since not all the members of a family have to have the same family name, this design is flawed. So perhabs it is better to say that a family is just a list of all the members. There is no right or wrong here, this depends on personal preference and on the use case. If you liek you can also create a family as a list of objects like this:"
   ]
  },
  {
   "cell_type": "code",
   "execution_count": null,
   "metadata": {},
   "outputs": [],
   "source": [
    "family = [\n",
    "    {\n",
    "        'name': 'Peter',\n",
    "        'age': 23\n",
    "    },\n",
    "    {\n",
    "        'name': 'John',\n",
    "        'age': 45\n",
    "    },\n",
    "    {\n",
    "        'name': 'Alice',\n",
    "        'age': 12\n",
    "    }\n",
    "]\n",
    "\n",
    "print(f\"{family=}\")"
   ]
  },
  {
   "cell_type": "markdown",
   "metadata": {},
   "source": [
    "## Accessing Fields in an Object\n",
    "\n",
    "When we want to access fields in an object, we have different possibilities to do this. Each of them has its advantages and disadvantages. Let's consider the *normal* way to do this:\n",
    "\n",
    "```python\n",
    "person = {\n",
    "    'name': 'Bob',\n",
    "    'age': 42\n",
    "}\n",
    "\n",
    "print(person['name'])\n",
    "```\n",
    "\n",
    "With this syntax we can access the field of an object by specifying its name in the `[]`-brackets. This is similar to the syntax that we use to access an item in a list, but here we can specify the name of the item.\n",
    "\n",
    "This syntax is easy to understand and we will use it again later, so you should make a mental note here.\n",
    "\n",
    "The problem with this syntax is, that if the key does not exist, the code throws an error...\n",
    "\n",
    "### Exercise\n",
    "\n",
    "> Copy the code from above and run it in the next cell. Then change the key to something that is not defined in the object and execute the code. What error do you get?"
   ]
  },
  {
   "cell_type": "code",
   "execution_count": null,
   "metadata": {},
   "outputs": [],
   "source": []
  },
  {
   "cell_type": "markdown",
   "metadata": {},
   "source": [
    "We can access fields also with a different syntax. Consider the following code snippet:\n",
    "\n",
    "```python\n",
    "person = {\n",
    "    'name': 'Bob',\n",
    "    'age': 42\n",
    "}\n",
    "\n",
    "print(person.get('name'))\n",
    "```\n",
    "\n",
    "These 2 ways of accessing a field are almost identical. In the later case we just call the method `get()` on the object itself and give it the name of the field we want to access. The advantage of this method is that it just returns `None` if the key is not defined and does not crash.\n",
    "\n",
    "### Exercise\n",
    "\n",
    "> Copy the code from above and run it in the next cell. Then change the key to something that is not defined in the object and execute the code. What error do you get?"
   ]
  },
  {
   "cell_type": "code",
   "execution_count": null,
   "metadata": {},
   "outputs": [],
   "source": []
  },
  {
   "cell_type": "markdown",
   "metadata": {},
   "source": [
    "## Changing the Value of a Field\n",
    "\n",
    "If you want to chance the value of a field, you can easily do this with the first syntax (remember the mental note?).\n",
    "\n",
    "### Exercise\n",
    "\n",
    "> Run the following code cell, and chance the name to something else."
   ]
  },
  {
   "cell_type": "code",
   "execution_count": null,
   "metadata": {},
   "outputs": [],
   "source": [
    "person = {\n",
    "    'name': 'Bob',\n",
    "    'age': 42\n",
    "}\n",
    "\n",
    "print(person['name'])\n",
    "\n",
    "person['name'] = 'Andrew'\n",
    "\n",
    "print(person['name'])"
   ]
  },
  {
   "cell_type": "markdown",
   "metadata": {},
   "source": [
    "This just works like a variable assignment. We have the `=` sign, which means we want to assign a value (whatever is on the righthand side) to the variable (whatever is on the lefthand side)."
   ]
  },
  {
   "cell_type": "markdown",
   "metadata": {},
   "source": [
    "## JSON\n",
    "\n",
    "**JSON** is the JavaScript-Object-Notation. This is kind of a standart in computer science how to describe complex objects (or just simple data) in a more or less human readable format. **JSON** looks very similar to dictionaries (we called them objects here) in Python. Let's just look at an example."
   ]
  },
  {
   "cell_type": "code",
   "execution_count": null,
   "metadata": {},
   "outputs": [],
   "source": [
    "import json\n",
    "\n",
    "person = {\n",
    "    'name': 'Bob',\n",
    "    'age': 42,\n",
    "    'is_happy': True\n",
    "}\n",
    "\n",
    "print(json.dumps(person))"
   ]
  },
  {
   "cell_type": "markdown",
   "metadata": {},
   "source": [
    "This looks more or less the same as before. If you look very careful you can see that it uses double quotes (`\"`) here. This a standard for **JSON** but it also understands the single quotes (`'`). You can also see that `True` is no longer written with a capital `T`, which is also due to **JSON**. But the computer does all this for us, and we don't have to worry.\n",
    "\n",
    "## Writing to a File\n",
    "\n",
    "Often when we deal with data we want to write our data to a file or read the data from a file. We can easily do this with the code in the next cell."
   ]
  },
  {
   "cell_type": "code",
   "execution_count": null,
   "metadata": {},
   "outputs": [],
   "source": [
    "import json\n",
    "\n",
    "person = {\n",
    "    'name': 'Bob',\n",
    "    'age': 42,\n",
    "    'is_happy': True\n",
    "}\n",
    "\n",
    "with open(\"test.json\", 'w') as f:\n",
    "    json.dump(person, f)"
   ]
  },
  {
   "cell_type": "markdown",
   "metadata": {},
   "source": [
    "### Exercise\n",
    "\n",
    "> Execute the cell above and open the file that was just written to inspect its content.\n",
    "\n",
    "As you can see, it is very easy to write the data to a file, which we can use later on. Also the data in the file is humanly readable, and easy to manipulate.\n",
    "\n",
    "## Reading JSON Data from a File\n",
    "\n",
    "we can also read data from a file and convert it to a dictionary to manipulate the data or use it to draw some nice plots."
   ]
  },
  {
   "cell_type": "code",
   "execution_count": null,
   "metadata": {},
   "outputs": [],
   "source": [
    "import json\n",
    "\n",
    "with open(\"test.json\", 'r') as f:\n",
    "    data = json.load(f)\n",
    "    \n",
    "print(data)"
   ]
  },
  {
   "cell_type": "markdown",
   "metadata": {},
   "source": [
    "### Exercise\n",
    "\n",
    "> Manipulate the content of the file `test.json` and execute the cell above again. Try to add a second object into the json-File."
   ]
  },
  {
   "cell_type": "markdown",
   "metadata": {},
   "source": [
    "## Programming a Simple Game\n",
    "\n",
    "The most fun thing to learn programming is to code a game. To have a working game you have to carefully think about the objects in your game. \n",
    "\n",
    "- What kind of objects to you have?\n",
    "- What attributes to these objets have?\n",
    "\n",
    "The best way to learn this is by just jumping head on into programming a game.\n",
    "\n",
    "The Next cell is something like the game engine code. This implements all the functions that are needed during the game. There is no further documentation, so you have to read the code to understand what happends. The function names should be descriptable enough to get what will happen, so you don't have to read every function.\n",
    "\n",
    "If you want to add more interactions to the game, you have to manipulate change the code in this cell."
   ]
  },
  {
   "cell_type": "code",
   "execution_count": null,
   "metadata": {},
   "outputs": [],
   "source": [
    "from random import randint\n",
    "import json\n",
    "from IPython.display import clear_output\n",
    "\n",
    "game = {\n",
    "    'player': {\n",
    "        'name': 'peter',\n",
    "        'hp': 100,\n",
    "        'mana': 20,\n",
    "        'attack': 10\n",
    "    },\n",
    "    'playing': True,\n",
    "    'round': 1,\n",
    "    'monster': None\n",
    "}\n",
    "\n",
    "\n",
    "def save_game():\n",
    "    with open('game.json', 'w') as f:\n",
    "        json.dump(game, f)\n",
    "    print(\"Game saved...\")\n",
    "        \n",
    "def load_game():\n",
    "    global game\n",
    "    with open('game.json', 'r') as f:\n",
    "        game = json.load(f)\n",
    "    print(\"Game loaded...\")\n",
    "\n",
    "\n",
    "def player_heal(player):\n",
    "    print(\"You heal yourself...\")\n",
    "    if player['mana'] >= 5:\n",
    "        player['mana'] -= 5\n",
    "        player['hp'] += 10\n",
    "\n",
    "\n",
    "def player_attack(player, target):\n",
    "    print(\"You attack the monster...\")\n",
    "    if target:\n",
    "        target['hp'] -= player['attack']\n",
    "\n",
    "\n",
    "def handle_action(action_code):\n",
    "    if action_code == '0':\n",
    "        game['playing'] = False\n",
    "    elif action_code == 's':\n",
    "        save_game()\n",
    "    elif action_code == 'l':\n",
    "        load_game()\n",
    "    elif action_code == '1':\n",
    "        player_heal(game.get('player'))\n",
    "    elif action_code == '2':\n",
    "        player_attack(game.get('player'), game.get('monster'))\n",
    "    else:\n",
    "        print(\"I don't know this action, please choose another one!\")\n",
    "\n",
    "\n",
    "def clean_up():\n",
    "    monster = game.get('monster')\n",
    "    if monster and monster['hp'] <=0:\n",
    "        game['monster'] = None\n",
    "        print(\"The monster fainted...\")\n",
    "    player = game.get('player')\n",
    "    if player and player['hp'] <=0:\n",
    "        game['playing'] = False\n",
    "        print(\"You lost the game!\")\n",
    "\n",
    "\n",
    "def monster_action(monster):\n",
    "    if monster is None:\n",
    "        return\n",
    "    random_action = randint(0, 1)\n",
    "    if random_action == 0:\n",
    "        print(\"The monster attacks you...\")\n",
    "        game['player']['hp'] -= monster['attack']\n",
    "    elif random_action == 1:\n",
    "        print(\"The monster heals itself...\")\n",
    "        monster['hp'] += 3\n",
    "    else:\n",
    "        print(\"The monster does nothing...\")\n",
    "        pass\n",
    "\n",
    "\n",
    "def print_game_state():\n",
    "    print(f\"\"\"\n",
    "Round: {game.get('round')}\n",
    "Player: {game.get('player')}\n",
    "Monster: {game.get('monster')}\n",
    "\"\"\")\n",
    "\n",
    "\n",
    "def spawn_monster():\n",
    "    if not game.get('monster'):\n",
    "        print(\"A new monster appears...\")\n",
    "        game['monster'] = {'name': 'orc', 'hp': 20, 'attack': 40}\n"
   ]
  },
  {
   "cell_type": "markdown",
   "metadata": {},
   "source": [
    "## The Game Loop\n",
    "\n",
    "The next cell implements the game loop. This is executed forever or if you implement a win or lose condition, you can break out of the game.\n",
    "\n",
    "### Exercise\n",
    "\n",
    "> Have fun playing around!"
   ]
  },
  {
   "cell_type": "code",
   "execution_count": null,
   "metadata": {},
   "outputs": [],
   "source": [
    "while game['playing']:\n",
    "    spawn_monster()\n",
    "\n",
    "    print_game_state()\n",
    "\n",
    "    action = input(\"What would you like to do? \")\n",
    "    clear_output()\n",
    "    handle_action(action)\n",
    "    clean_up()\n",
    "    \n",
    "    monster_action(game.get('monster'))\n",
    "    clean_up()\n",
    "\n",
    "    game['round'] += 1"
   ]
  }
 ],
 "metadata": {
  "kernelspec": {
   "display_name": "Python 3",
   "language": "python",
   "name": "python3"
  },
  "language_info": {
   "codemirror_mode": {
    "name": "ipython",
    "version": 3
   },
   "file_extension": ".py",
   "mimetype": "text/x-python",
   "name": "python",
   "nbconvert_exporter": "python",
   "pygments_lexer": "ipython3",
   "version": "3.8.3rc1"
  }
 },
 "nbformat": 4,
 "nbformat_minor": 5
}
