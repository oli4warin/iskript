{
 "cells": [
  {
   "cell_type": "markdown",
   "id": "dc8db9ee",
   "metadata": {},
   "source": [
    "# Version Control with Git\n",
    "\n",
    "Version control is a concept that you already know. All the modern Software is devolopped under **version control**. Even your operating system is developped under **version control**. But what is **version control** and why is it important for you? Let's first address the second part of this question. **Version control** in important for you, because it makes things easier when working with the computer. You basically use **version control** all the time when you work with **OneNote** or **Word** or a similar program. Whenever you make a change in these programs, the program stores the change and you get a newer version. Since all these changes are stored, you can easily go back to an older version of your project (Word file). You don't do this very often, and hopfully you don't have to. Because when you have to dig out an older version, it means that something went wrong. Most often this happens when you accidentally overwrite a document, or you delete multiple pages and save it.\n",
    "\n",
    "In software engeniering it happens very often that you make a change to you code, but later on you realize that the code was bad and you want to get back to the previous version. Therefore we need a way in software engeniering to explicitly tell which state of your project is a verison, so we can get back to it. Because there are many very small changes during the development - and many are just there to see if the code is still running - we need to specifically tell that these files in their current state are a version. It would be much to cumbersome to undo changes until you get to the point where you want to be, espacially since there are many bad versions on the way. This is where a **version control system** comes into play. This is essentially a software that keeps track of all changes we make inside a repository, whenever we tell it to update (create a new version)."
   ]
  },
  {
   "cell_type": "markdown",
   "id": "0aa3f826",
   "metadata": {},
   "source": [
    "## Git\n",
    "\n",
    "**Git** is such a **version control system**, and a very popular one. Most of the software you can find today is managed with **git**. **Git** is a so called *distributed version contol system (VCS)*, that means that many people can work on the same project at the same time, without being connected via the internet. It also means that you can work on your project on different computers, without running both at the same time, which is very nice.\n",
    "\n",
    "## Github\n",
    "\n",
    "**Github** is a hosting service for **git** projects. The two are often confused and the term **github** is often used instead of just **git**, which is due to the fact that almost all open source projects are hosted on **github**. But **github** is just the service that lets you easily share your projects with others, the real power still comes from **git** itself. But **github** is so usefull and very well integrated into almost all modern services, we are going to use is as well.\n",
    "\n",
    "### Exercise\n",
    "\n",
    "> Head over to [https://github.com](https://github.com) and create an account there."
   ]
  },
  {
   "cell_type": "markdown",
   "id": "3998c1a0",
   "metadata": {},
   "source": [
    "## Repository\n",
    "\n",
    "A **repository** (or short repo) is just a name for your projects that are managed with **git** or a project that you have on **github**.\n",
    "\n",
    "### Exercise\n",
    "\n",
    "> When you have your **github** account, sign in to it, and create a new repository. Open this repository on **github**."
   ]
  },
  {
   "cell_type": "markdown",
   "id": "456efdff",
   "metadata": {},
   "source": [
    "## Working with Repositories\n",
    "\n",
    "You could work directly in the webview of **github** to make changes to your repository. \n",
    "\n",
    "### Exercise\n",
    "\n",
    "> ceate a new file called .gitpod.yml and paste to following content into it:\n",
    ">\n",
    "> ```\n",
    "> tasks:\n",
    ">   - init: |\n",
    ">       pip install -r requirements.txt\n",
    "> vscode:\n",
    ">   extensions:\n",
    ">     - ms-python.python\n",
    ">     - mhutchie.git-graph\n",
    ">```\n",
    "\n",
    "This is not a very good way, in fact you should only do this if you don't have any other access to the repository. Usually you have your repository *checked out* onto your local computer, and there you work in your own customized environment. At least this is what experienced developpers do, since they have a highly customized workflow to be as efficient (anoying for others) as possible.\n",
    "\n",
    "We use modern tools that were developped during the lookdown to enable people to setup an coding environment as fast and easy as possible. This tool is called **Gitpod** and gives you a **VSCode-Editor** in the webbrowser without installing anything, and your repository is already checked out, so you can start working immediatly.\n",
    "\n",
    "### Exercise\n",
    "\n",
    "> Copy this link here `https://gitpod.io#` and paste it into the url bar in front of your github repository."
   ]
  },
  {
   "cell_type": "markdown",
   "id": "1d9ebd06",
   "metadata": {},
   "source": [
    "## Gitpod\n",
    "\n",
    "**Gitpod** is one of many services that is very well integrated into **github**. We just use it for now. Although the service is very nice, it is still better to work on your local machine, since you need a always working internet connection, this is not the best way to work. If you have a tablet, this is the best way to get as close to a native development experience as possible.\n",
    "\n",
    "**Note:** There is a payment plan behind this service, and you only have 50 hours per month, so just run 1 instance at a time, and close it whenever you finished your work.\n",
    "\n",
    "**Note:** The service **gitpod** does not neccesarraly store your data, so make sure you commit everything when you finished your work.\n",
    "\n",
    "**Note:** The service **gitpod** cuts your session after an inactivity of 30 minutes. This should be long enough for the break, but just keep it in mind.\n",
    "\n",
    "Despite all the warnings above, you should not lose any data when working with **gitpod**. But you should not rely on this and make sure to *commit* and *push* your changes whenever you finished your work. More on this right now.\n",
    "\n",
    "### Exercise\n",
    "\n",
    "> Create a new file in your **gitpod** instance, with the name `main.py` and save it.\n",
    ">\n",
    "> Paste the content `print(\"Hello World!\")` into the file. You should see a run button in the top right. Click this button and see what happens."
   ]
  },
  {
   "cell_type": "markdown",
   "id": "1ba6d036",
   "metadata": {},
   "source": [
    "Congratulations! You just executed your first real Python program!!!\n",
    "\n",
    "Now you should see a button on the left side, with a small batch on it. It is probably blue and has a small `1` on it. This button is the access to you **version control**. The `1` tells you that you have 1 file with a change in it. Click the button and you can see all the changes that **git** has detected. You can inspect the changes by clicking in the files. This opens the *diff view*.\n",
    "\n",
    "### Exercise\n",
    "\n",
    "> Inspect a file in the *diff view*. What do you see?"
   ]
  },
  {
   "cell_type": "markdown",
   "id": "a27036a0",
   "metadata": {},
   "source": [
    "## Making a Commit\n",
    "\n",
    "A *commit* is a snapshot of your project. Earlier we used the term version for it. From now on we will use the term *commit* whenever we talk about a specific verison of your project.\n",
    "\n",
    "To make a *commit* we first have to tell **git** what we want to commit, so we have to tell which files we want to add. We can do this by clicking on the `+` icon in the **Version Control View** this is right next to the filename. When you press the `+` icon, you should see that your file is now under *Staged changes*. This is the *staging area* of **git**. Here we tell **git** what changes we want to include in the next commit. This seems a bit complicated, but the *staging area* allows us to ignore some changes from the next *commit*. If this is too complicated for now, you can always add all changes to the new *commit*.\n",
    "\n",
    "To finally make the *commit* you have to enter a *commit message*. This message is used to tell what you changed in this *commit*. It should be very short but descriptive. Good *commit messages* are very hard. If you don't know what you changed, you can always just put the word `update` in there. But the *commit message* should help you find a specific *commit* in your history quite fast, so maybe its good to think about it for at least 2 seconds.\n",
    "\n",
    "### Exercise\n",
    "\n",
    "> Add the `main.py` to your *staging area* and make a new *commit*.\n",
    "\n",
    "Congratulations! You just made your second commit. The first commit was when you added the file on **github** in the webview. Adding something in the webview is always a commit."
   ]
  },
  {
   "cell_type": "markdown",
   "id": "1c4ba08b",
   "metadata": {},
   "source": [
    "## Developing your Program\n",
    "\n",
    "Now we want a program that does a bit more than just print `Hello World!` to the console... Let's build a webscraper to fetch some XKCD commics from the web.\n",
    "\n",
    "First we need a new file `requirements.txt` with the following content:\n",
    "\n",
    "```\n",
    "requests\n",
    "beautifulsoup4\n",
    "```\n",
    "\n",
    "Save the file, and change to the console. There you enter the following command, to install the packages we just specified:\n",
    "\n",
    "```bash\n",
    "pip install -r requirements.txt\n",
    "```\n",
    "\n",
    "This should hopefully work. When this was successfull, we can make a new *commit*. Add the file `requirements.txt` to the *staging area* and make a new commit."
   ]
  },
  {
   "cell_type": "markdown",
   "id": "ef62b778",
   "metadata": {},
   "source": [
    "We now need to import the libraries and write the basic code to check if it works correctly. Change the content in your `main.py` to the following:\n",
    "\n",
    "```python\n",
    "from bs4 import BeautifulSoup\n",
    "from requests import get\n",
    "\n",
    "url = \"https://xkcd.com/archive/\"\n",
    "res = get(url)\n",
    "\n",
    "soup = BeautifulSoup(res.content, \"html.parser\")\n",
    "\n",
    "hrefs = [elem['href'] for elem in soup.select(r\"a[title]\")]\n",
    "print(hrefs)\n",
    "```\n",
    "\n",
    "Execute the code to make sure it works.\n",
    "\n",
    "Make a new *commit* with the *commit message* of `Fetching all links from xkcd.`"
   ]
  },
  {
   "cell_type": "markdown",
   "id": "22a09204",
   "metadata": {},
   "source": [
    "Now let's pick a random commic. For this we need to add `from random import choice` at the top of the file, and we can replace the last line with `print(choice(hrefs))`.\n",
    "\n",
    "Check if this works and make a new *commit*.\n",
    "\n",
    "You can see that we only have the number of a comic, but we need to have the whole url, so we make a new change and we add `print(\"https://xkcd.com/\" + choice(hrefs))` at the end of the file. Check if it works and make a new *commit*."
   ]
  },
  {
   "cell_type": "markdown",
   "id": "f033adff",
   "metadata": {},
   "source": [
    "## Undo commits\n",
    "\n",
    "You just remembered that putting strings together with `+` is not a good practice and its also not very readable. You remember that there are these **f-Strings** in Python, so you undo the last change and implement it instead with **f-String**. To undo the last commit, you can go to **Source Control View**. There you have a dropdown menu and there you can find `commit > undo last commit`. Then you can work from there."
   ]
  },
  {
   "cell_type": "markdown",
   "id": "67774975",
   "metadata": {},
   "source": [
    "## Working with Branches\n",
    "\n",
    "The workflow we described above is not very practical. It is much better to work with branches. Whenever we want to work on something new, we just create a new branch. We can easily do this by clicking on the `master` button in the bottom left of the window. A new menu pops up and we can select a `Create new branch` we can then name this branch an do our work inside of the branch.\n",
    "\n",
    "The basic idea behind this is that all your work should be organized in meaningful chunks. This is always a good practice for all kinds of work. During software development you often have the problem that you start working on different things, but they all start from the same working thing. So you *branch of* from your master branch. Whenever you finished a so called *feature branch* you then merge it back into the *master branch*. This way your *master branch* always stays clean, and you can just experiment with some other stuff and its very easy to get back to a clean state.\n",
    "\n",
    "### Exercise\n",
    "\n",
    "> Create a new branch and implement the **f-String** version. Commit your changes.\n",
    "\n",
    "Your changes are now commited on the new branch."
   ]
  },
  {
   "cell_type": "markdown",
   "id": "1e05fa3e",
   "metadata": {},
   "source": [
    "## Merging Branches\n",
    "\n",
    "You you finished working on a branch, and you decide that the changes are good enough to put them into your master branch, you merge the to branches together. This is called a *merge*. *Merges* are quite easy, you always pull the changes from the other branch that you specify. So let's walk through that together.\n",
    "\n",
    "To pull in changed from another branch, we first have to make sure that we are on the master branch. So click in the bottom left and select the *master branch*. After that you head over to the **Source Control View**. In the dropdown menu you can find `Branch > Merge Branch...`. Select the branch you wnat to merge, and your good to go.\n",
    "\n",
    "When you work with multiple people in a bigger project, all of you work just like this with the branches. This makes it very easy to keep the project clean and everyone can work quite fast."
   ]
  }
 ],
 "metadata": {
  "kernelspec": {
   "display_name": "Python 3 (ipykernel)",
   "language": "python",
   "name": "python3"
  },
  "language_info": {
   "codemirror_mode": {
    "name": "ipython",
    "version": 3
   },
   "file_extension": ".py",
   "mimetype": "text/x-python",
   "name": "python",
   "nbconvert_exporter": "python",
   "pygments_lexer": "ipython3",
   "version": "3.10.1"
  }
 },
 "nbformat": 4,
 "nbformat_minor": 5
}
