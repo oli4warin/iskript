{
 "cells": [
  {
   "cell_type": "markdown",
   "metadata": {},
   "source": [
    "# Templates\n",
    "\n",
    "Templates are very handy when we want to write websites that show different content but use the same layout. The same line of reasoning can also be applied to other documents like letters, exercise sheets, exams and other documents. The key observation here is that these documents all follow the same layout bat have a different content each time. If we only have to change a few small things we don't think about templating, but this is just because we think that templating is to difficult an time consuming to setup. This is not the case with **Jinja2** which is a templating engine written in *Python* and used in many different frameworks mostly for webpages. **Jinja2** is very flexible and can be used for all sorts of documents not just **HTML**.\n",
    "\n",
    "### Example\n",
    "\n",
    "To better understand what templating is, just consider the following example. We want to have a greeting message that is personalized to you. In **Python** we can easily achieve this with so called *f-Strings*. Consider the code block below and the explanation after the code block."
   ]
  },
  {
   "cell_type": "code",
   "execution_count": null,
   "metadata": {},
   "outputs": [],
   "source": [
    "name = \"Cedric\"\n",
    "\n",
    "print(f\"Hello {name}!\")"
   ]
  },
  {
   "cell_type": "markdown",
   "metadata": {},
   "source": [
    "### Explanation\n",
    "\n",
    "We first define a variable named `name` and assign a value to this variable. The we print something to the console that follows this very specific syntax.\n",
    "\n",
    "> **IMPORTANT**:\n",
    "> We have to use the `f` in front of the `\"` signs!\n",
    "\n",
    "In **Python** if we specifiy the `f` in front of a string, this string is treated as an **f-String**, which means *formatted*-String. Whenever **Python** sees such a string, it goes and replaces everything in `{}` with variables from its current scope. in the example above, this is the variable `name` with the value that is currently assigned to it."
   ]
  },
  {
   "cell_type": "markdown",
   "metadata": {},
   "source": [
    "### Exercise\n",
    "\n",
    "> Go ahead and try it yourself!\n",
    "> In the cell below, create to variables and then print the value of each of them to the console by using an **f-String**."
   ]
  },
  {
   "cell_type": "code",
   "execution_count": null,
   "metadata": {},
   "outputs": [],
   "source": []
  },
  {
   "cell_type": "markdown",
   "metadata": {},
   "source": [
    "Altough this is very handy when we work with **Python** and we have to print some information on the console, this is not as handy as templating with **Jinja2**.\n",
    "\n",
    "Let's consider the same example as above with **Jinja2**.\n",
    "\n",
    "### Example\n",
    "\n",
    "In the cell below you can find an example of **Jinja2** that achieves the same thing as we did in the example above with just plain **Python**, with a few more lines of code and the syntax has changed a little bit."
   ]
  },
  {
   "cell_type": "code",
   "execution_count": null,
   "metadata": {},
   "outputs": [],
   "source": [
    "from jinja2 import Template\n",
    "\n",
    "template = Template(r\"Hello {{ name }}!\")\n",
    "res = template.render(name=\"Cedric\")\n",
    "\n",
    "print(res)"
   ]
  },
  {
   "cell_type": "markdown",
   "metadata": {},
   "source": [
    "So why is this usefull?\n",
    "\n",
    "This particular example is not usefull at all, since we can achieve the same thing with plain **Python** and we should keep things as simple as possible. What the example should show is that:\n",
    "\n",
    "> *Everything is just text!*\n",
    "\n",
    "It is very important to keep this in mind, and it is also helpfull to think this way whenever possible. In the **Jinja2** example above we can see that we use `{{` and `}}` to indicate that we want the value of a variable at this place. This is very handy, because `{{` and `}}` don't occur very often in documents, so we can use it safely here. It also catches our eye, since is uses a lot of space on the screen. If we think in text and like a computer scientist, this line tells us that it wants to say something with the variable `name`. This is all we need to know, we don't have to know which greeting exactly should be shown here. This is a separation of tasks that occurs quite often in computer science and is a very practical tool to use.\n",
    "\n",
    "So **Jinja2** gives us a way of replacing some parts of a text with some values based on some rules. This is very handy if we combine this with a markup language like **HTML**.\n",
    "\n",
    "### Blog Entry\n",
    "\n",
    "Let's consider the use case where we want to write a blog entry and we already have set up our **HTML** to display the blog. At this point we are no longer concerned with the layout of the webpage, but only with its content. This is what **HTML** already gives us, but let's abstract the idea a bit further. Let's say we don't know what **CSS**-classes our website uses and which **HTML**-tags are used for what exactly, and we don't have to know this. If we want to make a blog entry, we only have to provide a *title* and the *content* of the blog.\n",
    "\n",
    "The code cell below provides a **Jinja2** template to do exactly what we described above."
   ]
  },
  {
   "cell_type": "code",
   "execution_count": null,
   "metadata": {},
   "outputs": [],
   "source": [
    "from jinja2 import Template\n",
    "\n",
    "template = Template(r\"\"\"\n",
    "<h2> {{ title}} </h2>\n",
    "<p> {{ content }} </p>\n",
    "\"\"\")\n",
    "\n",
    "res = template.render(\n",
    "    title=\"My First Blog\",\n",
    "    content=\"This is the content of my first blog!\"\n",
    ")\n",
    "\n",
    "print(res)"
   ]
  },
  {
   "cell_type": "markdown",
   "metadata": {},
   "source": [
    "This looks still very complicated!\n",
    "\n",
    "Well we are still developing our understanding for templates and how to use **Jinja2**, so the example is still not very convincing, but consider this idea:\n",
    "\n",
    "> We don't have to know the exact template that will be used, we just need to provide the data.\n",
    "\n",
    "This sounds reasonable. This is exaclty the idea that we described above. We don't have to care for the **HTML** we just need to know how to name our variables. Well this is easy, I can just ask you to provide a `title` and some `content` and then I can render the template myself.\n",
    "\n",
    "### Exercise\n",
    "\n",
    "Provide a `title` and some `content` and execute the cell below."
   ]
  },
  {
   "cell_type": "code",
   "execution_count": null,
   "metadata": {},
   "outputs": [],
   "source": [
    "from jinja2 import Environment\n",
    "from jinja2.loaders import FileSystemLoader\n",
    "from ipywidgets import HTML\n",
    "\n",
    "env = Environment(loader=FileSystemLoader(\"./templates\"))\n",
    "template = env.get_template('blog.html')\n",
    "\n",
    "# Provide your data here\n",
    "title = ''\n",
    "content = ''\n",
    "\n",
    "res = template.render(title=title, content=content)\n",
    "display(HTML(res))"
   ]
  },
  {
   "cell_type": "markdown",
   "metadata": {},
   "source": [
    "There is to much code in this cell since we only have to provide a `title` and some `content`!\n",
    "\n",
    "Well we could hide this code for the user, but since you have to learn and understand it anyways you can also look at it now!\n",
    "\n",
    "The first 3 lines are just imports and we don't care to much for these imports. Just know that we have to import this stuff since it's not build it directly into **Python**.\n",
    "\n",
    "We then just load an `Environment` and tell it to load templetes from a directory calles `'templates'` that just next to this notebook. This is very handy, since we can store multiple templates in this directory and just use whichever we need.\n",
    "\n",
    "We then fetch the template with the name `'blog.html'` from the templates direcory.\n",
    "\n",
    "We provide the variables that our templete needs to render.\n",
    "\n",
    "We then render the templete and output its content as **HTML**."
   ]
  },
  {
   "cell_type": "markdown",
   "metadata": {},
   "source": [
    "### Writing to a File"
   ]
  },
  {
   "cell_type": "code",
   "execution_count": null,
   "metadata": {},
   "outputs": [],
   "source": [
    "with open('index.html','w') as f:\n",
    "    f.write(res)"
   ]
  },
  {
   "cell_type": "markdown",
   "metadata": {},
   "source": [
    "## Data\n",
    "\n",
    "So that was not difficult at all. In fact that was very easy. We just have to specify some variables and you blog gets displayed as it should. Now we only have to think about the data that will be rendered. This is very nice!\n",
    "\n",
    "So let's shift the focus onto the data and use what we learned previously about **dictionaries** and **JSON**. Both of these are very handy tools when it comes to describing your data. **Dictionaries** are built into **Python** and follow a very similar syntax as **JSON**. **JSON** is a separate language that is used to describe data.\n",
    "\n",
    "### Exercise\n",
    "\n",
    "In the cell below, you find code that is very similar to the cell before, but now we use a dictionary called `data` to store the `title` and the `content` for our blog. \n",
    "\n",
    "Create another blog post by providing a title and some content."
   ]
  },
  {
   "cell_type": "code",
   "execution_count": null,
   "metadata": {},
   "outputs": [],
   "source": []
  },
  {
   "cell_type": "code",
   "execution_count": null,
   "metadata": {},
   "outputs": [],
   "source": [
    "from jinja2 import Environment\n",
    "from jinja2.loaders import FileSystemLoader\n",
    "from ipywidgets import HTML\n",
    "\n",
    "env = Environment(loader=FileSystemLoader(\"./templates\"))\n",
    "template = env.get_template('blog.html')\n",
    "\n",
    "# Provide your data here\n",
    "data = {\n",
    "    'title': '',\n",
    "    'content': ''\n",
    "}\n",
    "\n",
    "res = template.render(data)\n",
    "display(HTML(res))"
   ]
  },
  {
   "cell_type": "markdown",
   "metadata": {},
   "source": [
    "## More Abstractions\n",
    "\n",
    "Since we currently only care for the data, let's absract the rest of this away, by creating a very usefull function, that will search for our template and then render it with the data we provide.\n",
    "\n",
    "> **Sidenote:**\n",
    ">\n",
    "> This sounds like a usefull workflow. We can ask creators to put in their content and specify a title, and we will show it on our website with the layout we created for this. This sounds like a very usefull idea to create a lot of content for example a news site and present it in a coherent way.\n",
    "\n",
    "### Exercise\n",
    "\n",
    "Execute the cell below to create our usefull rendering function. You can use this function in different code cells afterwards as long as you don't restart the kernel."
   ]
  },
  {
   "cell_type": "code",
   "execution_count": null,
   "metadata": {},
   "outputs": [],
   "source": [
    "from jinja2 import Environment, select_autoescape\n",
    "from jinja2.loaders import FileSystemLoader\n",
    "from ipywidgets import HTML\n",
    "\n",
    "def render_html_template(template_name, data):\n",
    "    env = Environment(\n",
    "        loader=FileSystemLoader(\"./templates\"),\n",
    "        autoescape=select_autoescape([\"html\", \"xml\"]))\n",
    "    template = env.get_template(template_name)\n",
    "\n",
    "    res = template.render(data)\n",
    "    display(HTML(res))"
   ]
  },
  {
   "cell_type": "markdown",
   "metadata": {},
   "source": [
    "### Exercise\n",
    "\n",
    "Use the newly created function to create yet another blog post."
   ]
  },
  {
   "cell_type": "code",
   "execution_count": null,
   "metadata": {},
   "outputs": [],
   "source": [
    "data = {\n",
    "    'title': '',\n",
    "    'content': ''\n",
    "}\n",
    "render_html_template('blog.html', data)"
   ]
  },
  {
   "cell_type": "markdown",
   "metadata": {},
   "source": [
    "### Limiting the Creators\n",
    "\n",
    "The approach described above is limiting the creators. We only provide them with 1 title and one content. A creator could write its own **HTML** in the content part, but we would ideally forbid this, since this could break the design of our website. We did this with the autoescape in the code block with our own render function, because we don't trust the creators to follow all our guidelines. But we still want to give the creators a better model to work with, so let's rethink the model design in terms of data.\n",
    "\n",
    "What would we expect from our creators to provide for us. One creator has to write one blog post for us and this is everything. If a creator want to write multiple blog posts, we treat him as a seperate creator each time. This means we only have to think about the data for one blog entry. So how is a blog entry composed?\n",
    "\n",
    "- A blog entry needs to have a title.\n",
    "- A blog entry needs to have an author.\n",
    "- A blog entry can have multiple sections.\n",
    "- A blog entry can have multiple images.\n",
    "\n",
    "The title and the author are straight forward and don't need any special thinking, but the sections and images need some thinking. Maybe we also want to add the possibility to highlight some parts of the article. We could say that we split the content in a list of sections. Each section has a content as text, an optional image at the end and a possible highlight at the begining. So we could provide a prototype data variable that looks as follows:"
   ]
  },
  {
   "cell_type": "markdown",
   "metadata": {},
   "source": [
    "### Exercise\n",
    "\n",
    "Change the data and create your own blog post. Change the number of `sections`."
   ]
  },
  {
   "cell_type": "code",
   "execution_count": null,
   "metadata": {},
   "outputs": [],
   "source": [
    "data = {\n",
    "    'title': 'My Improved Blog Post',\n",
    "    'author': 'Cedric Geissmann',\n",
    "    'sections': [\n",
    "        {\n",
    "            'content': 'This is the content of the first section.'\n",
    "        }, {\n",
    "            'highlight': 'Very Important!!!',\n",
    "            'content': 'This section is Very Important!!!'\n",
    "        }, {\n",
    "            'content': 'This section shows an image at the end',\n",
    "            'img_url': 'https://imgs.xkcd.com/comics/tags_2x.png'\n",
    "            \n",
    "        }\n",
    "    ]\n",
    "}\n",
    "\n",
    "render_html_template('blog-improved.html', data)"
   ]
  },
  {
   "cell_type": "markdown",
   "metadata": {},
   "source": [
    "## Focus on the Data\n",
    "\n",
    "The format proposed above is far from optimal but it should make clear that a separation of concerns is beneficial in almost every case. When we look at the last cell, all we had to do was providing the data for this entry. We did not have to worry about the design or anything else, we just had to focus on writing the blog post. If we want to write a good blog post or article, we have to think about how we can bring our point across with the tools that we have available. So in the case from above, we have to think more about how we structure the blog post, which parts we want to enhance with images and what we want to highlight. In other words, we have to focus on creating good content for the user, and this is the most important thing. We should not have to worry on the layout and other things. At the time of writing the blog post, we should only focus on the content of the post.\n",
    "\n",
    "> Templating enables us to focus on the content instead of the overall product."
   ]
  },
  {
   "cell_type": "markdown",
   "metadata": {},
   "source": [
    "## Lists in Templates\n",
    "\n",
    "Maybe you wonder how we can write a template that can deal with lists of various length as in the example above. Since **Jinja2** is based on **Python** we can also use many features of **Python** for rendering our templates. **Jinja2** uses a special syntax to iterate over all elements in a list:\n",
    "\n",
    "```html\n",
    "{% for section in data.sections %}\n",
    "<p> {{section}} </p>\n",
    "{% endfor %}\n",
    "```\n",
    "\n",
    "This piece of code iterates over all elements in data.sections.\n",
    "\n",
    "### Exercise\n",
    "\n",
    "The next block defines a very basic example for how you could render a list with **Jinja2**. Change the code so that it displays the first 1000 square numbers."
   ]
  },
  {
   "cell_type": "code",
   "execution_count": null,
   "metadata": {
    "scrolled": true
   },
   "outputs": [],
   "source": [
    "from jinja2 import Template\n",
    "from ipywidgets import HTML\n",
    "\n",
    "template = Template(r\"\"\"\n",
    "<h2> Lists with Jinja2 </h2>\n",
    "<ul>\n",
    "    {% for item in li %}\n",
    "    <li> {{item}} </li>\n",
    "    {% endfor %}\n",
    "</ul>\n",
    "\"\"\")\n",
    "\n",
    "res = template.render(\n",
    "    li=[x**2 for x in range(1, 10)]\n",
    ")\n",
    "\n",
    "display(HTML(res))"
   ]
  },
  {
   "cell_type": "markdown",
   "metadata": {},
   "source": [
    "## Templates are quite usefull\n",
    "\n",
    "The example above is a bit arbitrary, you should not have to write the first 1000 square numbers in a document, but if you had to, you would not go and write every single one of them down by hand, you would probably just copy and paste it, after you computed them. But this is still a tedious task. Go ahad and think about how you would do this efficiently. You could use f-Strings from **Python** and generate them in a similar way as we do here. So this is another usefull thing about templates, you can create content that follows a certain logic very easily with **Jinja2**."
   ]
  },
  {
   "cell_type": "markdown",
   "metadata": {},
   "source": [
    "## Logic in Templates\n",
    "\n",
    "We can slo apply some logic in our templates. This is the same logic that we can apply with **Python**. Logic in templates is not used very often, because you do not have to apply logic to you normal documents, but it could be usefull in some cases. If you think about a website, there you normally have content that is only visible if a user is logged in, otherwise he cannot see this content.\n",
    "\n",
    "In the example about the improved blog, we had the case where we did not specify an image url, so we do not want to have an image for this section. With **Jinja2** we can achieve this easily with the following syntax:\n",
    "\n",
    "```html\n",
    "{% if data.something %}\n",
    "<p> {{data.something}} </p>\n",
    "{% endif %}\n",
    "```\n",
    "\n",
    "If `something` is not contained in `data` it will not be displayed.\n",
    "\n",
    "### Exercise\n",
    "\n",
    "The following cell provides a template that checks if the data contains a `name` if this is not the case, a default value it printed."
   ]
  },
  {
   "cell_type": "code",
   "execution_count": null,
   "metadata": {
    "scrolled": true
   },
   "outputs": [],
   "source": [
    "from jinja2 import Template\n",
    "from ipywidgets import HTML\n",
    "\n",
    "template = Template(r\"\"\"\n",
    "<h2>Logic for Templates</h2>\n",
    "<p>This article is written by\n",
    "{% if data.name %}\n",
    "{{ data.name }}\n",
    "{% else %}\n",
    "unknown author\n",
    "{% endif %}\n",
    ".</p>\n",
    "\"\"\")\n",
    "\n",
    "data = {\n",
    "    'name': ''\n",
    "}\n",
    "\n",
    "res = template.render(data=data)\n",
    "\n",
    "display(HTML(res))"
   ]
  },
  {
   "cell_type": "markdown",
   "metadata": {},
   "source": [
    "**Jinja2** does not only check if the data is available, but also if it is empty. This is usefull if you want to provide the full data for the creator but if they don't put any data into it, it will not be rendered. You can also check for a specific value.\n",
    "\n",
    "### Exercise\n",
    "\n",
    "In the code cell below you find a template that checks the value of `data.password`. If you enter the correct password, it will show the password to you, if not it will answer with **Wrong password!**.\n",
    "\n",
    "Change the password so it outputs the correct password to you."
   ]
  },
  {
   "cell_type": "code",
   "execution_count": null,
   "metadata": {
    "scrolled": true
   },
   "outputs": [],
   "source": [
    "from jinja2 import Template\n",
    "from ipywidgets import HTML\n",
    "\n",
    "template = Template(r\"\"\"\n",
    "<h2>Logic for Templates</h2>\n",
    "<p>\n",
    "{% if data.password == '1234' %}\n",
    "Your password is {{ data.password }}\n",
    "{% else %}\n",
    "Wrong password!\n",
    "{% endif %}\n",
    "</p>\n",
    "\"\"\")\n",
    "\n",
    "data = {\n",
    "    'password': '123'\n",
    "}\n",
    "\n",
    "res = template.render(data=data)\n",
    "\n",
    "display(HTML(res))"
   ]
  },
  {
   "cell_type": "markdown",
   "metadata": {},
   "source": [
    "## Silly Password Example\n",
    "\n",
    "The example above is very silly, since you can lookup the hardcoded password in the same code cell as the password check, so this is not at all secure. But let's think about this a bit differently. As we pointed out before, this can be used to display the content of a website only if the user is logged in. In this case we have the rendering and the check for the password on a different system and the user only sees the rendered document. The user never sees the template code itself. So if my system is secure and nobody has access to the template that I use, I can easily provide a website or other documents that require a password to display.\n",
    "\n",
    "### Exercise\n",
    "\n",
    "The code below sends a request to a webserver which uses **Jinja2** to render the webpages. The website only shows you the content when you access it with the password `'very secure'`. Otherwise it will show you what a user will see who does not know the correct password.\n",
    "\n",
    "Run the cell below and change the password to `'very secure'` and run it again."
   ]
  },
  {
   "cell_type": "code",
   "execution_count": null,
   "metadata": {},
   "outputs": [],
   "source": [
    "import requests\n",
    "from ipywidgets import HTML\n",
    "\n",
    "url = \"https://chat.cege.me/test-password\"\n",
    "\n",
    "data = {'password': 'very secur'}\n",
    "res = requests.get(url, data)\n",
    "\n",
    "display(HTML(res.content))"
   ]
  },
  {
   "cell_type": "markdown",
   "metadata": {},
   "source": [
    "To prove that this is an actual webserver running and serving websites, you can click on the following links to open them in your browser.\n",
    "\n",
    "- [correct password](https://chat.cege.me/test-password?password=very+secure)\n",
    "- [wrong password](https://chat.cege.me/test-password?password=wrong)\n",
    "\n",
    "> **IMPORTANT!!!**\n",
    ">\n",
    "> The check for the correct password should **NEVER** be done in the template itself! The template only renders the parts that an authorised user should see. The test whether the user is correctly authenticated is handled by the webserver itself."
   ]
  },
  {
   "cell_type": "code",
   "execution_count": null,
   "metadata": {},
   "outputs": [],
   "source": []
  }
 ],
 "metadata": {
  "kernelspec": {
   "display_name": "Python 3",
   "language": "python",
   "name": "python3"
  },
  "language_info": {
   "codemirror_mode": {
    "name": "ipython",
    "version": 3
   },
   "file_extension": ".py",
   "mimetype": "text/x-python",
   "name": "python",
   "nbconvert_exporter": "python",
   "pygments_lexer": "ipython3",
   "version": "3.8.3rc1"
  }
 },
 "nbformat": 4,
 "nbformat_minor": 5
}
